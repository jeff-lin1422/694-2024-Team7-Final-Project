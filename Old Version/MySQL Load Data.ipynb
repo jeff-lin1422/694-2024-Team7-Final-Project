{
 "cells": [
  {
   "cell_type": "code",
   "execution_count": 5,
   "metadata": {},
   "outputs": [],
   "source": [
    "import json"
   ]
  },
  {
   "cell_type": "code",
   "execution_count": 45,
   "metadata": {},
   "outputs": [
    {
     "name": "stdout",
     "output_type": "stream",
     "text": [
      "TWEET\n",
      " id-- 1254022770679320576 text-- É isto, ou vou morrer sem ar ou com o corona https://t.co/O0Y7B3Koj4 \n",
      "\n",
      "User--  {'id': 804046791348015107, 'id_str': '804046791348015107', 'name': 'Bi Sex Uau', 'screen_name': 'B_King69', 'location': 'Acre, Brasil', 'url': 'https://www.instagram.com/?hl=pt-br', 'description': 'se for da minha família já pode voltar daq mesmo', 'translator_type': 'none', 'protected': False, 'verified': False, 'followers_count': 89, 'friends_count': 173, 'listed_count': 0, 'favourites_count': 5446, 'statuses_count': 4728, 'created_at': 'Wed Nov 30 19:37:48 +0000 2016', 'utc_offset': None, 'time_zone': None, 'geo_enabled': False, 'lang': None, 'contributors_enabled': False, 'is_translator': False, 'profile_background_color': 'F5F8FA', 'profile_background_image_url': '', 'profile_background_image_url_https': '', 'profile_background_tile': False, 'profile_link_color': '1DA1F2', 'profile_sidebar_border_color': 'C0DEED', 'profile_sidebar_fill_color': 'DDEEF6', 'profile_text_color': '333333', 'profile_use_background_image': True, 'profile_image_url': 'http://pbs.twimg.com/profile_images/1210794971231477761/hLtokcV-_normal.jpg', 'profile_image_url_https': 'https://pbs.twimg.com/profile_images/1210794971231477761/hLtokcV-_normal.jpg', 'profile_banner_url': 'https://pbs.twimg.com/profile_banners/804046791348015107/1577511053', 'default_profile': True, 'default_profile_image': False, 'following': None, 'follow_request_sent': None, 'notifications': None} \n",
      "\n",
      "TWEET\n",
      " id-- 1254022770746372096 text-- Schöne Runde mit dem Rennrad ✌️\n",
      "#sport #corona https://t.co/Uglj9YJPI1 \n",
      "\n",
      "User--  {'id': 2242948745, 'id_str': '2242948745', 'name': 'Thomas Krause', 'screen_name': 'tho1965', 'location': None, 'url': None, 'description': 'Sportredakteur @nordkurier 🏃\\u200d♂️🚴\\u200d♂️⚽️', 'translator_type': 'none', 'protected': False, 'verified': False, 'followers_count': 173, 'friends_count': 685, 'listed_count': 9, 'favourites_count': 2184, 'statuses_count': 1865, 'created_at': 'Wed Dec 25 09:13:33 +0000 2013', 'utc_offset': None, 'time_zone': None, 'geo_enabled': True, 'lang': None, 'contributors_enabled': False, 'is_translator': False, 'profile_background_color': '000000', 'profile_background_image_url': 'http://abs.twimg.com/images/themes/theme1/bg.png', 'profile_background_image_url_https': 'https://abs.twimg.com/images/themes/theme1/bg.png', 'profile_background_tile': False, 'profile_link_color': '91D2FA', 'profile_sidebar_border_color': '000000', 'profile_sidebar_fill_color': '000000', 'profile_text_color': '000000', 'profile_use_background_image': False, 'profile_image_url': 'http://pbs.twimg.com/profile_images/1235271878132060161/v6QDnXLL_normal.jpg', 'profile_image_url_https': 'https://pbs.twimg.com/profile_images/1235271878132060161/v6QDnXLL_normal.jpg', 'profile_banner_url': 'https://pbs.twimg.com/profile_banners/2242948745/1587058715', 'default_profile': False, 'default_profile_image': False, 'following': None, 'follow_request_sent': None, 'notifications': None} \n",
      "\n",
      "RETWEET\n",
      " id-- 1254022772558368768 text-- RT @BJP4India: India’s war with Corona is ongoing.\n",
      "\n",
      "Play your part and make sure no one around you starves.\n",
      "\n",
      "Your contribution to defeat hu… \n",
      "\n",
      "User--  {'id': 908326492718764034, 'id_str': '908326492718764034', 'name': 'शचीन्द्र पाण्डेय', 'screen_name': 'im_S_pandey', 'location': 'Amethi Uttar Pradesh', 'url': None, 'description': 'Official Twitter Handel Shachindra Pandey (@im_s_pandey) BJP IT Department Amethi District\\n Fallow by Narendra Modi \\n (@narendramodi) ji', 'translator_type': 'none', 'protected': False, 'verified': False, 'followers_count': 2362, 'friends_count': 202, 'listed_count': 3, 'favourites_count': 30668, 'statuses_count': 48906, 'created_at': 'Thu Sep 14 13:48:06 +0000 2017', 'utc_offset': None, 'time_zone': None, 'geo_enabled': True, 'lang': None, 'contributors_enabled': False, 'is_translator': False, 'profile_background_color': 'F5F8FA', 'profile_background_image_url': '', 'profile_background_image_url_https': '', 'profile_background_tile': False, 'profile_link_color': '1DA1F2', 'profile_sidebar_border_color': 'C0DEED', 'profile_sidebar_fill_color': 'DDEEF6', 'profile_text_color': '333333', 'profile_use_background_image': True, 'profile_image_url': 'http://pbs.twimg.com/profile_images/1252819913820925952/PdvkxSTA_normal.jpg', 'profile_image_url_https': 'https://pbs.twimg.com/profile_images/1252819913820925952/PdvkxSTA_normal.jpg', 'profile_banner_url': 'https://pbs.twimg.com/profile_banners/908326492718764034/1579091829', 'default_profile': True, 'default_profile_image': False, 'following': None, 'follow_request_sent': None, 'notifications': None} \n",
      "\n",
      "retweetstatus-- {'created_at': 'Sat Apr 25 07:30:12 +0000 2020', 'id': 1253949413191344128, 'id_str': '1253949413191344128', 'text': 'India’s war with Corona is ongoing.\\n\\nPlay your part and make sure no one around you starves.\\n\\nYour contribution to… https://t.co/lKhbsMFpIA', 'display_text_range': [0, 140], 'source': '<a href=\"https://mobile.twitter.com\" rel=\"nofollow\">Twitter Web App</a>', 'truncated': True, 'in_reply_to_status_id': None, 'in_reply_to_status_id_str': None, 'in_reply_to_user_id': None, 'in_reply_to_user_id_str': None, 'in_reply_to_screen_name': None, 'user': {'id': 207809313, 'id_str': '207809313', 'name': 'BJP', 'screen_name': 'BJP4India', 'location': '6-A, Deen Dayal Upadhyay Marg,', 'url': 'http://www.bjp.org', 'description': \"Official Twitter account of the Bharatiya Janata Party (BJP), world's largest political party. भारतीय जनता पार्टी (भाजपा)\\n\\nhttp://instagram.com/bjp4india\", 'translator_type': 'none', 'protected': False, 'verified': True, 'followers_count': 13481667, 'friends_count': 3, 'listed_count': 3018, 'favourites_count': 0, 'statuses_count': 200315, 'created_at': 'Tue Oct 26 02:19:07 +0000 2010', 'utc_offset': None, 'time_zone': None, 'geo_enabled': True, 'lang': None, 'contributors_enabled': False, 'is_translator': False, 'profile_background_color': 'C0DEED', 'profile_background_image_url': 'http://abs.twimg.com/images/themes/theme1/bg.png', 'profile_background_image_url_https': 'https://abs.twimg.com/images/themes/theme1/bg.png', 'profile_background_tile': False, 'profile_link_color': '0084B4', 'profile_sidebar_border_color': 'FFFFFF', 'profile_sidebar_fill_color': 'DDEEF6', 'profile_text_color': '333333', 'profile_use_background_image': False, 'profile_image_url': 'http://pbs.twimg.com/profile_images/812531108092874753/frVON4bm_normal.jpg', 'profile_image_url_https': 'https://pbs.twimg.com/profile_images/812531108092874753/frVON4bm_normal.jpg', 'profile_banner_url': 'https://pbs.twimg.com/profile_banners/207809313/1583155635', 'default_profile': False, 'default_profile_image': False, 'following': None, 'follow_request_sent': None, 'notifications': None}, 'geo': None, 'coordinates': None, 'place': None, 'contributors': None, 'is_quote_status': False, 'extended_tweet': {'full_text': 'India’s war with Corona is ongoing.\\n\\nPlay your part and make sure no one around you starves.\\n\\nYour contribution to defeat hunger is as valuable as defeating Corona.\\n\\n#FeedTheNeedy https://t.co/TUWf2nqPgZ', 'display_text_range': [0, 179], 'entities': {'hashtags': [{'text': 'FeedTheNeedy', 'indices': [166, 179]}], 'urls': [], 'user_mentions': [], 'symbols': [], 'media': [{'id': 1253949383403425793, 'id_str': '1253949383403425793', 'indices': [180, 203], 'media_url': 'http://pbs.twimg.com/media/EWbsUgwU0AEQ3G0.jpg', 'media_url_https': 'https://pbs.twimg.com/media/EWbsUgwU0AEQ3G0.jpg', 'url': 'https://t.co/TUWf2nqPgZ', 'display_url': 'pic.twitter.com/TUWf2nqPgZ', 'expanded_url': 'https://twitter.com/BJP4India/status/1253949413191344128/photo/1', 'type': 'photo', 'sizes': {'thumb': {'w': 150, 'h': 150, 'resize': 'crop'}, 'small': {'w': 680, 'h': 680, 'resize': 'fit'}, 'large': {'w': 1200, 'h': 1200, 'resize': 'fit'}, 'medium': {'w': 1200, 'h': 1200, 'resize': 'fit'}}}]}, 'extended_entities': {'media': [{'id': 1253949383403425793, 'id_str': '1253949383403425793', 'indices': [180, 203], 'media_url': 'http://pbs.twimg.com/media/EWbsUgwU0AEQ3G0.jpg', 'media_url_https': 'https://pbs.twimg.com/media/EWbsUgwU0AEQ3G0.jpg', 'url': 'https://t.co/TUWf2nqPgZ', 'display_url': 'pic.twitter.com/TUWf2nqPgZ', 'expanded_url': 'https://twitter.com/BJP4India/status/1253949413191344128/photo/1', 'type': 'photo', 'sizes': {'thumb': {'w': 150, 'h': 150, 'resize': 'crop'}, 'small': {'w': 680, 'h': 680, 'resize': 'fit'}, 'large': {'w': 1200, 'h': 1200, 'resize': 'fit'}, 'medium': {'w': 1200, 'h': 1200, 'resize': 'fit'}}}]}}, 'quote_count': 16, 'reply_count': 101, 'retweet_count': 340, 'favorite_count': 1870, 'entities': {'hashtags': [], 'urls': [{'url': 'https://t.co/lKhbsMFpIA', 'expanded_url': 'https://twitter.com/i/web/status/1253949413191344128', 'display_url': 'twitter.com/i/web/status/1…', 'indices': [116, 139]}], 'user_mentions': [], 'symbols': []}, 'favorited': False, 'retweeted': False, 'possibly_sensitive': False, 'filter_level': 'low', 'lang': 'en'} \n",
      "\n",
      "RETWEET\n",
      " id-- 1254022772877131777 text-- RT @schrodingerk42: @ozkan_yalim @DurmusYillmaz \n",
      "Açık kapalı görüşler yasak olduğu için sadece telefon görüşlerinde kendisinden haber alabi… \n",
      "\n",
      "User--  {'id': 1206650133976408064, 'id_str': '1206650133976408064', 'name': 'Büşra Öztaş', 'screen_name': 'schrodingerk42', 'location': None, 'url': None, 'description': None, 'translator_type': 'none', 'protected': False, 'verified': False, 'followers_count': 318, 'friends_count': 220, 'listed_count': 0, 'favourites_count': 1974, 'statuses_count': 405, 'created_at': 'Mon Dec 16 18:59:53 +0000 2019', 'utc_offset': None, 'time_zone': None, 'geo_enabled': False, 'lang': None, 'contributors_enabled': False, 'is_translator': False, 'profile_background_color': 'F5F8FA', 'profile_background_image_url': '', 'profile_background_image_url_https': '', 'profile_background_tile': False, 'profile_link_color': '1DA1F2', 'profile_sidebar_border_color': 'C0DEED', 'profile_sidebar_fill_color': 'DDEEF6', 'profile_text_color': '333333', 'profile_use_background_image': True, 'profile_image_url': 'http://pbs.twimg.com/profile_images/1252587987864616962/YHmt6u8v_normal.jpg', 'profile_image_url_https': 'https://pbs.twimg.com/profile_images/1252587987864616962/YHmt6u8v_normal.jpg', 'profile_banner_url': 'https://pbs.twimg.com/profile_banners/1206650133976408064/1580601960', 'default_profile': True, 'default_profile_image': False, 'following': None, 'follow_request_sent': None, 'notifications': None} \n",
      "\n",
      "retweetstatus-- {'created_at': 'Tue Apr 21 12:34:00 +0000 2020', 'id': 1252576316135739392, 'id_str': '1252576316135739392', 'text': '@ozkan_yalim @DurmusYillmaz \\nAçık kapalı görüşler yasak olduğu için sadece telefon görüşlerinde kendisinden haber a… https://t.co/vAhzxTppCA', 'source': '<a href=\"http://twitter.com/download/android\" rel=\"nofollow\">Twitter for Android</a>', 'truncated': True, 'in_reply_to_status_id': 1252575751259422721, 'in_reply_to_status_id_str': '1252575751259422721', 'in_reply_to_user_id': 1206650133976408064, 'in_reply_to_user_id_str': '1206650133976408064', 'in_reply_to_screen_name': 'schrodingerk42', 'user': {'id': 1206650133976408064, 'id_str': '1206650133976408064', 'name': 'Büşra Öztaş', 'screen_name': 'schrodingerk42', 'location': None, 'url': None, 'description': None, 'translator_type': 'none', 'protected': False, 'verified': False, 'followers_count': 318, 'friends_count': 220, 'listed_count': 0, 'favourites_count': 1974, 'statuses_count': 404, 'created_at': 'Mon Dec 16 18:59:53 +0000 2019', 'utc_offset': None, 'time_zone': None, 'geo_enabled': False, 'lang': None, 'contributors_enabled': False, 'is_translator': False, 'profile_background_color': 'F5F8FA', 'profile_background_image_url': '', 'profile_background_image_url_https': '', 'profile_background_tile': False, 'profile_link_color': '1DA1F2', 'profile_sidebar_border_color': 'C0DEED', 'profile_sidebar_fill_color': 'DDEEF6', 'profile_text_color': '333333', 'profile_use_background_image': True, 'profile_image_url': 'http://pbs.twimg.com/profile_images/1252587987864616962/YHmt6u8v_normal.jpg', 'profile_image_url_https': 'https://pbs.twimg.com/profile_images/1252587987864616962/YHmt6u8v_normal.jpg', 'profile_banner_url': 'https://pbs.twimg.com/profile_banners/1206650133976408064/1580601960', 'default_profile': True, 'default_profile_image': False, 'following': None, 'follow_request_sent': None, 'notifications': None}, 'geo': None, 'coordinates': None, 'place': None, 'contributors': None, 'is_quote_status': False, 'extended_tweet': {'full_text': '@ozkan_yalim @DurmusYillmaz \\nAçık kapalı görüşler yasak olduğu için sadece telefon görüşlerinde kendisinden haber alabiliyoruz ancak ameliyat olduktan sonraki hafta telefon görüşünde kendisi aramadı.Corona endişesinin olduğu şu günlerde kendisinden haber alabilmek için haftasonu+', 'display_text_range': [0, 280], 'entities': {'hashtags': [], 'urls': [], 'user_mentions': [{'screen_name': 'ozkan_yalim', 'name': 'Özkan Yalım', 'id': 2972639925, 'id_str': '2972639925', 'indices': [0, 12]}, {'screen_name': 'DurmusYillmaz', 'name': 'Durmuş Yılmaz', 'id': 3062441200, 'id_str': '3062441200', 'indices': [13, 27]}], 'symbols': []}}, 'quote_count': 1, 'reply_count': 1, 'retweet_count': 72, 'favorite_count': 83, 'entities': {'hashtags': [], 'urls': [{'url': 'https://t.co/vAhzxTppCA', 'expanded_url': 'https://twitter.com/i/web/status/1252576316135739392', 'display_url': 'twitter.com/i/web/status/1…', 'indices': [117, 140]}], 'user_mentions': [{'screen_name': 'ozkan_yalim', 'name': 'Özkan Yalım', 'id': 2972639925, 'id_str': '2972639925', 'indices': [0, 12]}, {'screen_name': 'DurmusYillmaz', 'name': 'Durmuş Yılmaz', 'id': 3062441200, 'id_str': '3062441200', 'indices': [13, 27]}], 'symbols': []}, 'favorited': False, 'retweeted': False, 'filter_level': 'low', 'lang': 'tr'} \n",
      "\n"
     ]
    },
    {
     "name": "stdout",
     "output_type": "stream",
     "text": [
      "num of lines= 101916 num of tweets= 40804 num of retweets= 61112\n",
      "num of unique tweets/retweets= 101894\n"
     ]
    }
   ],
   "source": [
    "# this code block allows you to inspect 2 tweets and 2 retweets in the dataset\n",
    "# it also saves all the unique tweets/retweets in the dictionary tweets\n",
    "# this code will help you to understand the data\n",
    "# feel free to print out more fields\n",
    "\n",
    "lines=0\n",
    "num_tweets=0\n",
    "num_retweets=0\n",
    "print_tweet = 0\n",
    "print_retweet = 0\n",
    "tweets = {}\n",
    "\n",
    "#insert path and replace name of the file below as needed\n",
    "with open(\"corona-out-3\", \"r\") as f1:\n",
    "    for line in f1:\n",
    "        try:\n",
    "            data = json.loads(line)\n",
    "            lines = lines + 1\n",
    "            if ( data['text'].startswith('RT') ):\n",
    "                num_retweets += 1\n",
    "                #print out some fields of one retweet \n",
    "                #note that you should look at other fields too\n",
    "                if (print_retweet < 2):\n",
    "                    print_retweet += 1\n",
    "                    print('RETWEET\\n','id--',data['id'],'text--',data['text'],'\\n')\n",
    "                    \n",
    "                    print('User-- ',data['user'],'\\n')\n",
    "                  \n",
    "                    print('retweetstatus--',data['retweeted_status'],'\\n')\n",
    "                  \n",
    "\n",
    "            else:\n",
    "                num_tweets += 1\n",
    "                #print out some fields of one tweet \n",
    "                #note that you should look at other fields too\n",
    "                if (print_tweet < 2):\n",
    "                    print_tweet += 1\n",
    "                    print('TWEET\\n','id--',data['id'],'text--',data['text'],'\\n')\n",
    "                    print('User-- ',data['user'],'\\n')\n",
    "                    \n",
    "\n",
    "\n",
    "            if (data['id_str'] not in tweets):\n",
    "                tweets[data['id_str']] = data\n",
    "            \n",
    "        except:\n",
    "            # if there is an error loading the json of the tweet, skip\n",
    "            continue\n",
    "            \n",
    "print('num of lines=',lines, 'num of tweets=',num_tweets, 'num of retweets=',num_retweets)\n",
    "print('num of unique tweets/retweets=',len(tweets.keys()))"
   ]
  },
  {
   "cell_type": "code",
   "execution_count": 7,
   "metadata": {
    "scrolled": false
   },
   "outputs": [
    {
     "data": {
      "text/plain": [
       "{'created_at': 'Sat Apr 25 14:48:38 +0000 2020',\n",
       " 'id': 1254059752201519104,\n",
       " 'id_str': '1254059752201519104',\n",
       " 'text': 'RT @anderslindberg: För att förstå vad Anders Tegnell menar med ”ett snabbare förlopp” krävs att man förstår svaret på en gåta. Hur många g…',\n",
       " 'source': '<a href=\"http://twitter.com/download/iphone\" rel=\"nofollow\">Twitter for iPhone</a>',\n",
       " 'truncated': False,\n",
       " 'in_reply_to_status_id': None,\n",
       " 'in_reply_to_status_id_str': None,\n",
       " 'in_reply_to_user_id': None,\n",
       " 'in_reply_to_user_id_str': None,\n",
       " 'in_reply_to_screen_name': None,\n",
       " 'user': {'id': 933734367679123456,\n",
       "  'id_str': '933734367679123456',\n",
       "  'name': 'Jacob',\n",
       "  'screen_name': 'lundgreenjacob',\n",
       "  'location': None,\n",
       "  'url': None,\n",
       "  'description': None,\n",
       "  'translator_type': 'none',\n",
       "  'protected': False,\n",
       "  'verified': False,\n",
       "  'followers_count': 1,\n",
       "  'friends_count': 44,\n",
       "  'listed_count': 0,\n",
       "  'favourites_count': 68,\n",
       "  'statuses_count': 12,\n",
       "  'created_at': 'Thu Nov 23 16:29:56 +0000 2017',\n",
       "  'utc_offset': None,\n",
       "  'time_zone': None,\n",
       "  'geo_enabled': False,\n",
       "  'lang': None,\n",
       "  'contributors_enabled': False,\n",
       "  'is_translator': False,\n",
       "  'profile_background_color': 'F5F8FA',\n",
       "  'profile_background_image_url': '',\n",
       "  'profile_background_image_url_https': '',\n",
       "  'profile_background_tile': False,\n",
       "  'profile_link_color': '1DA1F2',\n",
       "  'profile_sidebar_border_color': 'C0DEED',\n",
       "  'profile_sidebar_fill_color': 'DDEEF6',\n",
       "  'profile_text_color': '333333',\n",
       "  'profile_use_background_image': True,\n",
       "  'profile_image_url': 'http://pbs.twimg.com/profile_images/933736718141968384/uxpf4THz_normal.jpg',\n",
       "  'profile_image_url_https': 'https://pbs.twimg.com/profile_images/933736718141968384/uxpf4THz_normal.jpg',\n",
       "  'default_profile': True,\n",
       "  'default_profile_image': False,\n",
       "  'following': None,\n",
       "  'follow_request_sent': None,\n",
       "  'notifications': None},\n",
       " 'geo': None,\n",
       " 'coordinates': None,\n",
       " 'place': None,\n",
       " 'contributors': None,\n",
       " 'retweeted_status': {'created_at': 'Sat Apr 25 08:39:12 +0000 2020',\n",
       "  'id': 1253966779900137472,\n",
       "  'id_str': '1253966779900137472',\n",
       "  'text': 'För att förstå vad Anders Tegnell menar med ”ett snabbare förlopp” krävs att man förstår svaret på en gåta. Hur mån… https://t.co/LtTIAw6Erb',\n",
       "  'source': '<a href=\"http://twitter.com/download/iphone\" rel=\"nofollow\">Twitter for iPhone</a>',\n",
       "  'truncated': True,\n",
       "  'in_reply_to_status_id': None,\n",
       "  'in_reply_to_status_id_str': None,\n",
       "  'in_reply_to_user_id': None,\n",
       "  'in_reply_to_user_id_str': None,\n",
       "  'in_reply_to_screen_name': None,\n",
       "  'user': {'id': 19236255,\n",
       "   'id_str': '19236255',\n",
       "   'name': 'Anders Lindberg',\n",
       "   'screen_name': 'anderslindberg',\n",
       "   'location': 'Anywhere',\n",
       "   'url': 'https://www.facebook.com/AndersAftonbladet/',\n",
       "   'description': 'Politisk chefredaktör på Aftonbladet. ”Ett fritt land känner man igen på att ingen är tvungen att lyssna när makthavarna talar.”',\n",
       "   'translator_type': 'none',\n",
       "   'protected': False,\n",
       "   'verified': False,\n",
       "   'followers_count': 47556,\n",
       "   'friends_count': 1368,\n",
       "   'listed_count': 323,\n",
       "   'favourites_count': 7215,\n",
       "   'statuses_count': 122389,\n",
       "   'created_at': 'Tue Jan 20 13:35:55 +0000 2009',\n",
       "   'utc_offset': None,\n",
       "   'time_zone': None,\n",
       "   'geo_enabled': True,\n",
       "   'lang': None,\n",
       "   'contributors_enabled': False,\n",
       "   'is_translator': False,\n",
       "   'profile_background_color': '642D8B',\n",
       "   'profile_background_image_url': 'http://abs.twimg.com/images/themes/theme10/bg.gif',\n",
       "   'profile_background_image_url_https': 'https://abs.twimg.com/images/themes/theme10/bg.gif',\n",
       "   'profile_background_tile': False,\n",
       "   'profile_link_color': '7FDBB6',\n",
       "   'profile_sidebar_border_color': '65B0DA',\n",
       "   'profile_sidebar_fill_color': '7AC3EE',\n",
       "   'profile_text_color': '3D1957',\n",
       "   'profile_use_background_image': True,\n",
       "   'profile_image_url': 'http://pbs.twimg.com/profile_images/785962473568493570/SXeDP_DA_normal.jpg',\n",
       "   'profile_image_url_https': 'https://pbs.twimg.com/profile_images/785962473568493570/SXeDP_DA_normal.jpg',\n",
       "   'profile_banner_url': 'https://pbs.twimg.com/profile_banners/19236255/1553752373',\n",
       "   'default_profile': False,\n",
       "   'default_profile_image': False,\n",
       "   'following': None,\n",
       "   'follow_request_sent': None,\n",
       "   'notifications': None},\n",
       "  'geo': None,\n",
       "  'coordinates': None,\n",
       "  'place': None,\n",
       "  'contributors': None,\n",
       "  'is_quote_status': False,\n",
       "  'extended_tweet': {'full_text': 'För att förstå vad Anders Tegnell menar med ”ett snabbare förlopp” krävs att man förstår svaret på en gåta. Hur många gånger måste man vika ett vanligt A4-papper för att det till slut är så tjockt att det når ända till månen?\\n\\nBriljant genomgång 👇 https://t.co/VnrztqZIci',\n",
       "   'display_text_range': [0, 271],\n",
       "   'entities': {'hashtags': [],\n",
       "    'urls': [{'url': 'https://t.co/VnrztqZIci',\n",
       "      'expanded_url': 'https://special.aftonbladet.se/corona-perspektiv/',\n",
       "      'display_url': 'special.aftonbladet.se/corona-perspek…',\n",
       "      'indices': [248, 271]}],\n",
       "    'user_mentions': [],\n",
       "    'symbols': []}},\n",
       "  'quote_count': 5,\n",
       "  'reply_count': 25,\n",
       "  'retweet_count': 21,\n",
       "  'favorite_count': 82,\n",
       "  'entities': {'hashtags': [],\n",
       "   'urls': [{'url': 'https://t.co/LtTIAw6Erb',\n",
       "     'expanded_url': 'https://twitter.com/i/web/status/1253966779900137472',\n",
       "     'display_url': 'twitter.com/i/web/status/1…',\n",
       "     'indices': [117, 140]}],\n",
       "   'user_mentions': [],\n",
       "   'symbols': []},\n",
       "  'favorited': False,\n",
       "  'retweeted': False,\n",
       "  'possibly_sensitive': False,\n",
       "  'filter_level': 'low',\n",
       "  'lang': 'sv'},\n",
       " 'is_quote_status': False,\n",
       " 'quote_count': 0,\n",
       " 'reply_count': 0,\n",
       " 'retweet_count': 0,\n",
       " 'favorite_count': 0,\n",
       " 'entities': {'hashtags': [],\n",
       "  'urls': [],\n",
       "  'user_mentions': [{'screen_name': 'anderslindberg',\n",
       "    'name': 'Anders Lindberg',\n",
       "    'id': 19236255,\n",
       "    'id_str': '19236255',\n",
       "    'indices': [3, 18]}],\n",
       "  'symbols': []},\n",
       " 'favorited': False,\n",
       " 'retweeted': False,\n",
       " 'filter_level': 'low',\n",
       " 'lang': 'sv',\n",
       " 'timestamp_ms': '1587826118885'}"
      ]
     },
     "execution_count": 7,
     "metadata": {},
     "output_type": "execute_result"
    }
   ],
   "source": [
    "# print the last data item\n",
    "data"
   ]
  },
  {
   "cell_type": "code",
   "execution_count": 44,
   "metadata": {
    "scrolled": true
   },
   "outputs": [
    {
     "data": {
      "text/plain": [
       "{'id': 933734367679123456,\n",
       " 'id_str': '933734367679123456',\n",
       " 'name': 'Jacob',\n",
       " 'screen_name': 'lundgreenjacob',\n",
       " 'location': None,\n",
       " 'url': None,\n",
       " 'description': None,\n",
       " 'translator_type': 'none',\n",
       " 'protected': False,\n",
       " 'verified': False,\n",
       " 'followers_count': 1,\n",
       " 'friends_count': 44,\n",
       " 'listed_count': 0,\n",
       " 'favourites_count': 68,\n",
       " 'statuses_count': 12,\n",
       " 'created_at': 'Thu Nov 23 16:29:56 +0000 2017',\n",
       " 'utc_offset': None,\n",
       " 'time_zone': None,\n",
       " 'geo_enabled': False,\n",
       " 'lang': None,\n",
       " 'contributors_enabled': False,\n",
       " 'is_translator': False,\n",
       " 'profile_background_color': 'F5F8FA',\n",
       " 'profile_background_image_url': '',\n",
       " 'profile_background_image_url_https': '',\n",
       " 'profile_background_tile': False,\n",
       " 'profile_link_color': '1DA1F2',\n",
       " 'profile_sidebar_border_color': 'C0DEED',\n",
       " 'profile_sidebar_fill_color': 'DDEEF6',\n",
       " 'profile_text_color': '333333',\n",
       " 'profile_use_background_image': True,\n",
       " 'profile_image_url': 'http://pbs.twimg.com/profile_images/933736718141968384/uxpf4THz_normal.jpg',\n",
       " 'profile_image_url_https': 'https://pbs.twimg.com/profile_images/933736718141968384/uxpf4THz_normal.jpg',\n",
       " 'default_profile': True,\n",
       " 'default_profile_image': False,\n",
       " 'following': None,\n",
       " 'follow_request_sent': None,\n",
       " 'notifications': None}"
      ]
     },
     "execution_count": 44,
     "metadata": {},
     "output_type": "execute_result"
    }
   ],
   "source": [
    "data['user']"
   ]
  },
  {
   "cell_type": "code",
   "execution_count": 9,
   "metadata": {},
   "outputs": [
    {
     "name": "stdout",
     "output_type": "stream",
     "text": [
      "-\n",
      "-\n",
      "-\n",
      "-\n",
      "-\n",
      "-\n",
      "-\n",
      "-\n",
      "-\n",
      "-\n",
      "-\n"
     ]
    }
   ],
   "source": [
    "# this is a partial template for processing the dataset to store into the datastores.\n",
    "# you will need to write functions for the psuedocode sections and invoke them here\n",
    "\n",
    "#insert path and replace name of the file below as needed\n",
    "\n",
    "datastores = {'tweets': {}, 'users': {}, 'metrics': {}}\n",
    "\n",
    "def tweet_already_seen(tweet_id, datastore):\n",
    "    \"\"\"\n",
    "    Check if the tweet has been seen before.\n",
    "    \"\"\"\n",
    "    return tweet_id in datastore['tweets']\n",
    "\n",
    "def user_not_seen_before(user_id, datastore):\n",
    "    \"\"\"\n",
    "    Check if the user has not been seen before.\n",
    "    \"\"\"\n",
    "    return user_id not in datastore['users']\n",
    "\n",
    "def add_user_to_table(user, datastore):\n",
    "    \"\"\"\n",
    "    Add user to the user table.\n",
    "    \"\"\"\n",
    "    datastore['users'][user['id']] = user\n",
    "\n",
    "def update_datastores(data, datastore):\n",
    "    \"\"\"\n",
    "    Update datastores with any metrics that you are tracking.\n",
    "    \"\"\"\n",
    "    # Update tweet count\n",
    "    datastore['metrics']['tweet_count'] = datastore['metrics'].get('tweet_count', 0) + 1\n",
    "\n",
    "def update_retweet_info(data, datastore):\n",
    "    \"\"\"\n",
    "    Update retweet information.\n",
    "    \"\"\"\n",
    "    # Update retweet count\n",
    "    datastore['metrics']['retweet_count'] = datastore['metrics'].get('retweet_count', 0) + 1\n",
    "\n",
    "def add_tweet_to_datastore(tweet, datastore):\n",
    "    \"\"\"\n",
    "    Add the new tweet to the datastore.\n",
    "    \"\"\"\n",
    "    datastore['tweets'][tweet['id']] = tweet\n",
    "\n",
    "with open(\"corona-out-3\", \"r\") as f1:\n",
    "    for line in f1:\n",
    "        try:\n",
    "            data = json.loads(line)\n",
    "            \n",
    "            # Check if tweet has been seen before\n",
    "            if tweet_already_seen(data['id'], datastores):\n",
    "                print('-')\n",
    "                continue\n",
    "            \n",
    "            user = data['user']\n",
    "            \n",
    "            # Check if user has not been seen before\n",
    "            if user_not_seen_before(user['id'], datastores):\n",
    "                add_user_to_table(user, datastores)\n",
    "            \n",
    "            # Update datastores with any metrics that you are tracking\n",
    "            update_datastores(data, datastores)\n",
    "            \n",
    "            if data['text'].startswith('RT'):\n",
    "                # Update retweet information\n",
    "                update_retweet_info(data, datastores)\n",
    "                # Note: You may not have an entry for the original tweet\n",
    "                # if that is not in the dataset\n",
    "            else:\n",
    "                # Add the new tweet to datastore\n",
    "                add_tweet_to_datastore(data, datastores)\n",
    "                \n",
    "        except:\n",
    "            continue"
   ]
  },
  {
   "cell_type": "code",
   "execution_count": 11,
   "metadata": {},
   "outputs": [
    {
     "data": {
      "text/plain": [
       "40793"
      ]
     },
     "execution_count": 11,
     "metadata": {},
     "output_type": "execute_result"
    }
   ],
   "source": [
    "len(datastores['tweets'])\n",
    "# 40793 tweets total"
   ]
  },
  {
   "cell_type": "code",
   "execution_count": 12,
   "metadata": {},
   "outputs": [
    {
     "data": {
      "text/plain": [
       "{'tweet_count': 101905, 'retweet_count': 61112}"
      ]
     },
     "execution_count": 12,
     "metadata": {},
     "output_type": "execute_result"
    }
   ],
   "source": [
    "datastores['metrics']"
   ]
  },
  {
   "cell_type": "code",
   "execution_count": 14,
   "metadata": {},
   "outputs": [
    {
     "data": {
      "text/plain": [
       "80943"
      ]
     },
     "execution_count": 14,
     "metadata": {},
     "output_type": "execute_result"
    }
   ],
   "source": [
    "len(datastores['users'])"
   ]
  },
  {
   "cell_type": "code",
   "execution_count": 16,
   "metadata": {},
   "outputs": [
    {
     "name": "stdout",
     "output_type": "stream",
     "text": [
      "Collecting mysql-connector-python\n",
      "  Obtaining dependency information for mysql-connector-python from https://files.pythonhosted.org/packages/d9/91/007a0d60fee8db4f7385075dc50bf62d2d359b417b374ec06b06ce6c2d64/mysql_connector_python-8.3.0-cp311-cp311-win_amd64.whl.metadata\n",
      "  Downloading mysql_connector_python-8.3.0-cp311-cp311-win_amd64.whl.metadata (2.0 kB)\n",
      "Downloading mysql_connector_python-8.3.0-cp311-cp311-win_amd64.whl (15.4 MB)\n",
      "   ---------------------------------------- 0.0/15.4 MB ? eta -:--:--\n",
      "   ---------------------------------------- 0.0/15.4 MB ? eta -:--:--\n",
      "   ---------------------------------------- 0.1/15.4 MB 1.3 MB/s eta 0:00:12\n",
      "   -- ------------------------------------- 0.9/15.4 MB 7.0 MB/s eta 0:00:03\n",
      "   ----- ---------------------------------- 2.0/15.4 MB 12.7 MB/s eta 0:00:02\n",
      "   --------- ------------------------------ 3.6/15.4 MB 16.7 MB/s eta 0:00:01\n",
      "   ------------- -------------------------- 5.0/15.4 MB 19.0 MB/s eta 0:00:01\n",
      "   ---------------- ----------------------- 6.5/15.4 MB 20.8 MB/s eta 0:00:01\n",
      "   --------------------- ------------------ 8.2/15.4 MB 22.7 MB/s eta 0:00:01\n",
      "   ------------------------- -------------- 9.9/15.4 MB 24.3 MB/s eta 0:00:01\n",
      "   ----------------------------- ---------- 11.5/15.4 MB 32.7 MB/s eta 0:00:01\n",
      "   ---------------------------------- ----- 13.1/15.4 MB 32.7 MB/s eta 0:00:01\n",
      "   -------------------------------------- - 14.9/15.4 MB 34.4 MB/s eta 0:00:01\n",
      "   ---------------------------------------- 15.4/15.4 MB 31.2 MB/s eta 0:00:00\n",
      "Installing collected packages: mysql-connector-python\n",
      "Successfully installed mysql-connector-python-8.3.0\n",
      "Note: you may need to restart the kernel to use updated packages.\n"
     ]
    }
   ],
   "source": [
    "pip install mysql-connector-python"
   ]
  },
  {
   "cell_type": "code",
   "execution_count": 17,
   "metadata": {},
   "outputs": [],
   "source": [
    "import mysql.connector\n",
    "from mysql.connector import Error"
   ]
  },
  {
   "cell_type": "code",
   "execution_count": 61,
   "metadata": {},
   "outputs": [
    {
     "name": "stdout",
     "output_type": "stream",
     "text": [
      "Connected to MySQL Server version  8.0.36\n"
     ]
    }
   ],
   "source": [
    "try:\n",
    "    connection = mysql.connector.connect(\n",
    "        host='127.0.0.1',\n",
    "        user='root',\n",
    "        password='password'\n",
    "    )\n",
    "    if connection.is_connected():\n",
    "        db_Info = connection.get_server_info()\n",
    "        print(\"Connected to MySQL Server version \", db_Info)\n",
    "        cursor = connection.cursor()\n",
    "        cursor.execute(\"CREATE DATABASE IF NOT EXISTS Twitterbase\")\n",
    "except Error as e:\n",
    "    print(\"Error while connecting to MySQL\", e)\n"
   ]
  },
  {
   "cell_type": "code",
   "execution_count": 49,
   "metadata": {},
   "outputs": [],
   "source": [
    "cursor.execute(\"USE Twitterbase\")"
   ]
  },
  {
   "cell_type": "code",
   "execution_count": 31,
   "metadata": {},
   "outputs": [],
   "source": [
    "# SQL statement for creating the Users table\n",
    "create_users_table_query = \"\"\"\n",
    "    CREATE TABLE IF NOT EXISTS Users (\n",
    "        id BIGINT PRIMARY KEY,\n",
    "        id_str VARCHAR(255),\n",
    "        name VARCHAR(255),\n",
    "        screen_name VARCHAR(255),\n",
    "        location VARCHAR(255),\n",
    "        url VARCHAR(511),\n",
    "        description TEXT,\n",
    "        protected BOOLEAN,\n",
    "        verified BOOLEAN,\n",
    "        followers_count INT,\n",
    "        friends_count INT,\n",
    "        listed_count INT,\n",
    "        favourites_count INT,\n",
    "        statuses_count INT,\n",
    "        created_at DATETIME,\n",
    "        profile_background_color VARCHAR(6),\n",
    "        profile_link_color VARCHAR(6),\n",
    "        profile_sidebar_border_color VARCHAR(6),\n",
    "        profile_sidebar_fill_color VARCHAR(6),\n",
    "        profile_text_color VARCHAR(6),\n",
    "        profile_image_url VARCHAR(511),\n",
    "        profile_banner_url VARCHAR(511),\n",
    "        default_profile BOOLEAN,\n",
    "        default_profile_image BOOLEAN\n",
    "    );\n",
    "    \"\"\"\n",
    "    \n",
    "# Execute the query to create the Users table\n",
    "cursor.execute(create_users_table_query)\n",
    "    \n",
    "# SQL statement for creating the Tweets table\n",
    "create_tweets_table_query = \"\"\"\n",
    "    CREATE TABLE IF NOT EXISTS Tweets (\n",
    "        id BIGINT PRIMARY KEY,\n",
    "        id_str VARCHAR(255),\n",
    "        text TEXT,\n",
    "        created_at DATETIME,\n",
    "        user_id BIGINT,\n",
    "        in_reply_to_status_id BIGINT,\n",
    "        in_reply_to_user_id BIGINT,\n",
    "        retweet_count INT,\n",
    "        favorite_count INT,\n",
    "        lang VARCHAR(10),\n",
    "        timestamp_ms BIGINT,\n",
    "        FOREIGN KEY (user_id) REFERENCES Users(id)\n",
    "    );\n",
    "    \"\"\"\n",
    "    \n",
    "# Execute the query to create the Tweets table\n",
    "cursor.execute(create_tweets_table_query)"
   ]
  },
  {
   "cell_type": "code",
   "execution_count": 32,
   "metadata": {},
   "outputs": [],
   "source": [
    "connection.commit()"
   ]
  },
  {
   "cell_type": "code",
   "execution_count": 1,
   "metadata": {},
   "outputs": [
    {
     "ename": "NameError",
     "evalue": "name 'cursor' is not defined",
     "output_type": "error",
     "traceback": [
      "\u001b[1;31m---------------------------------------------------------------------------\u001b[0m",
      "\u001b[1;31mNameError\u001b[0m                                 Traceback (most recent call last)",
      "Cell \u001b[1;32mIn[1], line 2\u001b[0m\n\u001b[0;32m      1\u001b[0m \u001b[38;5;66;03m# Retrieve all tables in the database\u001b[39;00m\n\u001b[1;32m----> 2\u001b[0m cursor\u001b[38;5;241m.\u001b[39mexecute(\u001b[38;5;124m\"\u001b[39m\u001b[38;5;124mSHOW TABLES\u001b[39m\u001b[38;5;124m\"\u001b[39m)\n\u001b[0;32m      3\u001b[0m \u001b[38;5;66;03m# Fetch all results\u001b[39;00m\n\u001b[0;32m      4\u001b[0m tables \u001b[38;5;241m=\u001b[39m cursor\u001b[38;5;241m.\u001b[39mfetchall()\n",
      "\u001b[1;31mNameError\u001b[0m: name 'cursor' is not defined"
     ]
    }
   ],
   "source": [
    "# Retrieve all tables in the database\n",
    "cursor.execute(\"SHOW TABLES\")\n",
    "# Fetch all results\n",
    "tables = cursor.fetchall()\n",
    "        \n",
    "# Print the list of tables\n",
    "print(\"Tables in the database:\")\n",
    "for table in tables:\n",
    "    print(table[0])"
   ]
  },
  {
   "cell_type": "code",
   "execution_count": 34,
   "metadata": {},
   "outputs": [],
   "source": [
    "import datetime"
   ]
  },
  {
   "cell_type": "code",
   "execution_count": 37,
   "metadata": {},
   "outputs": [],
   "source": [
    "# Function to parse date from Twitter format to MySQL DATETIME format\n",
    "def parse_twitter_date(twitter_date):\n",
    "    return datetime.datetime.strptime(twitter_date, '%a %b %d %H:%M:%S +0000 %Y')\n",
    "\n",
    "# Function to insert a user into the Users table\n",
    "def insert_user(cursor, user_data):\n",
    "    add_user_query = (\n",
    "        \"INSERT INTO Users \"\n",
    "        \"(id, id_str, name, screen_name, location, url, description, protected, \"\n",
    "        \"verified, followers_count, friends_count, listed_count, favourites_count, \"\n",
    "        \"statuses_count, created_at, profile_background_color, profile_link_color, \"\n",
    "        \"profile_sidebar_border_color, profile_sidebar_fill_color, profile_text_color, \"\n",
    "        \"profile_image_url, profile_banner_url, default_profile, default_profile_image) \"\n",
    "        \"VALUES (%s, %s, %s, %s, %s, %s, %s, %s, %s, %s, %s, %s, %s, %s, %s, %s, %s, \"\n",
    "        \"%s, %s, %s, %s, %s, %s, %s)\"\n",
    "    )\n",
    "    \n",
    "    # Extract the relevant data from the user_data dictionary\n",
    "    user_data_values = (\n",
    "        user_data['id'],\n",
    "        user_data['id_str'],\n",
    "        user_data['name'],\n",
    "        user_data['screen_name'],\n",
    "        user_data.get('location', ''),\n",
    "        user_data.get('url', ''),\n",
    "        user_data.get('description', ''),\n",
    "        user_data['protected'],\n",
    "        user_data['verified'],\n",
    "        user_data['followers_count'],\n",
    "        user_data['friends_count'],\n",
    "        user_data['listed_count'],\n",
    "        user_data['favourites_count'],\n",
    "        user_data['statuses_count'],\n",
    "        parse_twitter_date(user_data['created_at']),\n",
    "        user_data.get('profile_background_color', ''),\n",
    "        user_data.get('profile_link_color', ''),\n",
    "        user_data.get('profile_sidebar_border_color', ''),\n",
    "        user_data.get('profile_sidebar_fill_color', ''),\n",
    "        user_data.get('profile_text_color', ''),\n",
    "        user_data.get('profile_image_url', ''),\n",
    "        user_data.get('profile_banner_url', ''),\n",
    "        user_data['default_profile'],\n",
    "        user_data['default_profile_image']\n",
    "    )\n",
    "    \n",
    "    # Execute the query\n",
    "    cursor.execute(add_user_query, user_data_values)\n",
    "\n",
    "# Function to insert a tweet into the Tweets table\n",
    "def insert_tweet(cursor, tweet_data):\n",
    "    add_tweet_query = (\n",
    "        \"INSERT INTO Tweets \"\n",
    "        \"(id, id_str, text, created_at, user_id, in_reply_to_status_id, \"\n",
    "        \"in_reply_to_user_id, retweet_count, favorite_count, lang, timestamp_ms) \"\n",
    "        \"VALUES (%s, %s, %s, %s, %s, %s, %s, %s, %s, %s, %s)\"\n",
    "    )\n",
    "    \n",
    "    # Extract the relevant data from the tweet_data dictionary\n",
    "    tweet_data_values = (\n",
    "        tweet_data['id'],\n",
    "        tweet_data['id_str'],\n",
    "        tweet_data['text'],\n",
    "        parse_twitter_date(tweet_data['created_at']),\n",
    "        tweet_data['user']['id'],\n",
    "        tweet_data.get('in_reply_to_status_id', None),\n",
    "        tweet_data.get('in_reply_to_user_id', None),\n",
    "        tweet_data['retweet_count'],\n",
    "        tweet_data['favorite_count'],\n",
    "        tweet_data['lang'],\n",
    "        tweet_data['timestamp_ms']\n",
    "    )\n",
    "    \n",
    "    # Execute the query\n",
    "    cursor.execute(add_tweet_query, tweet_data_values)"
   ]
  },
  {
   "cell_type": "code",
   "execution_count": 38,
   "metadata": {},
   "outputs": [],
   "source": [
    "for user_id, user_data in datastores['users'].items():\n",
    "    insert_user(cursor, user_data)"
   ]
  },
  {
   "cell_type": "code",
   "execution_count": 39,
   "metadata": {},
   "outputs": [],
   "source": [
    "for tweet_id, tweet_data in datastores['tweets'].items():\n",
    "    insert_tweet(cursor, tweet_data)"
   ]
  },
  {
   "cell_type": "code",
   "execution_count": 40,
   "metadata": {},
   "outputs": [],
   "source": [
    "connection.commit()"
   ]
  },
  {
   "cell_type": "code",
   "execution_count": 41,
   "metadata": {},
   "outputs": [
    {
     "name": "stdout",
     "output_type": "stream",
     "text": [
      "First 5 entries from the Users table:\n",
      "(767, '767', 'Xeni Jardin 😷🏠', 'xeni', 'The lone and level sands', 'http://xeni.net', '#STAYHOME. Healthy today 🌈🙏. Support my voice: http://patreon.com/xenijardin. Outliving breast cancer 🦋 xeni@xeni.net', 0, 1, 152608, 14142, 5859, 170994, 288005, datetime.datetime(2006, 7, 14, 5, 49, 14), '000000', 'FAB81E', 'FFFFFF', 'DDE3F5', '000000', 'http://pbs.twimg.com/profile_images/1247496153878282240/g358Pjaq_normal.jpg', 'https://pbs.twimg.com/profile_banners/767/1547754385', 0, 0)\n",
      "(5039, '5039', 'Jrome', 'jrome', 'Haydenville, MA', None, 'working on bright white teeth', 0, 0, 642, 194, 50, 2957, 19831, datetime.datetime(2006, 8, 30, 13, 21, 20), '080808', '646469', 'FFFFFF', '1C1C1B', '594D59', 'http://pbs.twimg.com/profile_images/1035729023110971392/tdGGy2z5_normal.jpg', 'https://pbs.twimg.com/profile_banners/5039/1565835357', 0, 0)\n",
      "(5242, '5242', 'Ahmed Al Omran', 'ahmed', 'Saudi Arabia', 'http://alomran.me', 'Reporter for @FT covering Saudi Arabia · Formerly with @WSJ and @NPR · Email: ahmed.alomran@ft.com · Subscribe to my newsletter: http://riyadhbureau.com', 0, 1, 149844, 1919, 2630, 5211, 103894, datetime.datetime(2006, 9, 4, 0, 18, 12), 'CCCCCC', '002FA7', '000000', '99CC33', '3E4415', 'http://pbs.twimg.com/profile_images/1175469297675714562/QUWgZ3Gk_normal.jpg', 'https://pbs.twimg.com/profile_banners/5242/1569089262', 0, 0)\n",
      "(11364, '11364', 'Kirti', 'Kits', 'Hong Kong', 'https://www.linkedin.com/in/kirti-manian-5543102', 'I run, travel, shoot with an iPhone. Work @terradotdo', 0, 0, 922, 1001, 107, 23148, 42012, datetime.datetime(2006, 11, 3, 8, 43, 59), 'C8BEBC', '1B95E0', '391112', '73707D', 'E38754', 'http://pbs.twimg.com/profile_images/1236533691511214080/-RiWXOon_normal.jpg', 'https://pbs.twimg.com/profile_banners/11364/1584424586', 0, 0)\n",
      "(12094, '12094', 'Nicholai Reinseth', 'Nicholai', 'Copenhagen', 'http://weusedtodreamthebiggestdreams.tumblr.com/', 'Executive Creative Director @ Dentsu / Isobar. Copywriter by trade, literature scholar at heart. Lover of bad puns and great martinis.', 0, 0, 277, 134, 26, 1424, 1985, datetime.datetime(2006, 11, 11, 12, 21, 11), 'FFFFFF', 'B3A8AA', 'FFFFFF', 'FFFFFF', '6B6F76', 'http://pbs.twimg.com/profile_images/792446254236233728/86sl8Ero_normal.jpg', '', 0, 0)\n",
      "\n",
      "\n",
      "First 5 entries from the Tweets table:\n",
      "(1254022770679320576, '1254022770679320576', 'É isto, ou vou morrer sem ar ou com o corona https://t.co/O0Y7B3Koj4', datetime.datetime(2020, 4, 25, 12, 21, 41), 804046791348015107, None, None, 0, 0, 'pt', 1587817301803)\n",
      "(1254022770746372096, '1254022770746372096', 'Schöne Runde mit dem Rennrad ✌️\\n#sport #corona https://t.co/Uglj9YJPI1', datetime.datetime(2020, 4, 25, 12, 21, 41), 2242948745, None, None, 0, 0, 'de', 1587817301819)\n",
      "(1254022772575043586, '1254022772575043586', 'Was sollen 150 Euro Computerzuschuss bringen? Wer wartet die Computer in den 427 NRW Kommunen (Schulträger) wer die… https://t.co/wRAGYwMovO', datetime.datetime(2020, 4, 25, 12, 21, 42), 2929344220, None, None, 0, 0, 'de', 1587817302255)\n",
      "(1254022773598572544, '1254022773598572544', '@VinceMcMahon @TripleH We hereby honor to announce that we have developed a brand new treatment method using UV ray… https://t.co/1vCEIyRCl5', datetime.datetime(2020, 4, 25, 12, 21, 42), 1091660129894838272, 1253768179517657088, 1222639789, 0, 0, 'en', 1587817302499)\n",
      "(1254022776094105602, '1254022776094105602', 'im making 17 a hr doing nothing 😭😭😭😭 i love this corona pay', datetime.datetime(2020, 4, 25, 12, 21, 43), 375777294, None, None, 0, 0, 'en', 1587817303094)\n"
     ]
    }
   ],
   "source": [
    "# Query to select the first few entries from the Users table\n",
    "cursor.execute(\"SELECT * FROM Users LIMIT 5;\")\n",
    "print(\"First 5 entries from the Users table:\")\n",
    "for row in cursor.fetchall():\n",
    "    print(row)\n",
    "\n",
    "print(\"\\n\")  # Newline for better readability\n",
    "\n",
    "# Query to select the first few entries from the Tweets table\n",
    "cursor.execute(\"SELECT * FROM Tweets LIMIT 5;\")\n",
    "print(\"First 5 entries from the Tweets table:\")\n",
    "for row in cursor.fetchall():\n",
    "    print(row)"
   ]
  },
  {
   "cell_type": "code",
   "execution_count": 42,
   "metadata": {},
   "outputs": [
    {
     "name": "stdout",
     "output_type": "stream",
     "text": [
      "\n",
      "MySQL connection is closed\n"
     ]
    }
   ],
   "source": [
    "if connection.is_connected():\n",
    "    cursor.close()\n",
    "    connection.close()\n",
    "    print(\"\\nMySQL connection is closed\")"
   ]
  },
  {
   "cell_type": "code",
   "execution_count": 28,
   "metadata": {},
   "outputs": [
    {
     "data": {
      "text/plain": [
       "True"
      ]
     },
     "execution_count": 28,
     "metadata": {},
     "output_type": "execute_result"
    }
   ],
   "source": [
    "cursor.close() "
   ]
  },
  {
   "cell_type": "code",
   "execution_count": 27,
   "metadata": {},
   "outputs": [],
   "source": [
    "results = cursor.fetchall()"
   ]
  },
  {
   "cell_type": "code",
   "execution_count": 29,
   "metadata": {},
   "outputs": [],
   "source": [
    "cursor = connection.cursor()"
   ]
  },
  {
   "cell_type": "code",
   "execution_count": 47,
   "metadata": {},
   "outputs": [],
   "source": [
    "#New stuff:\n",
    "# Creating TWEET table\n",
    "tweet_table_query = \"\"\"\n",
    "CREATE TABLE IF NOT EXISTS TWEET (\n",
    "    TWEET_ID BIGINT PRIMARY KEY,\n",
    "    TEXT VARCHAR(280),\n",
    "    HASHTAGS TEXT,\n",
    "    USER_ID BIGINT,\n",
    "    CREATED_TIMESTAMP TIMESTAMP,\n",
    "    RETWEET_COUNT INT,\n",
    "    FAVORITE_COUNT INT,\n",
    "    MEDIA TEXT,\n",
    "    LANG VARCHAR(5),\n",
    "    COUNTRY VARCHAR(50),\n",
    "    NO_OF_TIMES_QUERIED INT\n",
    ");\n",
    "\"\"\"\n",
    "\n",
    "# Creating RETWEET table\n",
    "retweet_table_query = \"\"\"\n",
    "CREATE TABLE IF NOT EXISTS RETWEET (\n",
    "    RETWEET_ID BIGINT PRIMARY KEY,\n",
    "    ORIGINAL_TWEET_ID BIGINT,\n",
    "    TEXT VARCHAR(280),\n",
    "    HASHTAGS TEXT,\n",
    "    USER_ID BIGINT,\n",
    "    RETWEETED_TIMESTAMP TIMESTAMP,\n",
    "    FOREIGN KEY (ORIGINAL_TWEET_ID) REFERENCES TWEET(TWEET_ID)\n",
    ");\n",
    "\"\"\""
   ]
  },
  {
   "cell_type": "code",
   "execution_count": 50,
   "metadata": {},
   "outputs": [],
   "source": [
    "cursor.execute(tweet_table_query)\n",
    "cursor.execute(retweet_table_query)"
   ]
  },
  {
   "cell_type": "code",
   "execution_count": 51,
   "metadata": {},
   "outputs": [],
   "source": [
    "connection.commit()"
   ]
  },
  {
   "cell_type": "code",
   "execution_count": 67,
   "metadata": {},
   "outputs": [],
   "source": [
    "from datetime import datetime\n",
    "def parse_twitter_date(date_str):\n",
    "    # Parsing the Twitter date string and formatting it into MySQL's datetime format\n",
    "    return datetime.strptime(date_str, '%a %b %d %H:%M:%S +0000 %Y').strftime('%Y-%m-%d %H:%M:%S')\n",
    "\n",
    "def insert_tweet(data, cursor):\n",
    "    # Adjusted to format the CREATED_TIMESTAMP\n",
    "    tweet_values = (\n",
    "        data['id'],\n",
    "        data['text'],\n",
    "        ','.join([hashtag['text'] for hashtag in data.get('entities', {}).get('hashtags', [])]),\n",
    "        data['user']['id'],\n",
    "        parse_twitter_date(data['created_at']),\n",
    "        data.get('retweet_count', 0),\n",
    "        data.get('favorite_count', 0),\n",
    "        ','.join([media['media_url'] for media in data.get('entities', {}).get('media', [])]) if 'media' in data.get('entities', {}) else None,\n",
    "        data.get('lang'),\n",
    "        data.get('place', {}).get('country') if data.get('place') else None,\n",
    "        0 # Assuming 'No of times Queried' is a field managed elsewhere\n",
    "    )\n",
    "    insert_query = \"\"\"\n",
    "    INSERT IGNORE INTO TWEET (TWEET_ID, TEXT, HASHTAGS, USER_ID, CREATED_TIMESTAMP, RETWEET_COUNT, FAVORITE_COUNT, MEDIA, LANG, COUNTRY, NO_OF_TIMES_QUERIED)\n",
    "    VALUES (%s, %s, %s, %s, %s, %s, %s, %s, %s, %s, %s);\n",
    "    \"\"\"\n",
    "    cursor.execute(insert_query, tweet_values)\n",
    "\n",
    "def insert_retweet(data, cursor):\n",
    "    original_tweet_id = data['retweeted_status']['id']\n",
    "    retweet_values = (\n",
    "        data['id'],\n",
    "        original_tweet_id,\n",
    "        data['text'],\n",
    "        ','.join([hashtag['text'] for hashtag in data.get('entities', {}).get('hashtags', [])]),\n",
    "        data['user']['id'],\n",
    "        parse_twitter_date(data['created_at'])\n",
    "    )\n",
    "    insert_query = \"\"\"\n",
    "    INSERT IGNORE INTO RETWEET (RETWEET_ID, ORIGINAL_TWEET_ID, TEXT, HASHTAGS, USER_ID, RETWEETED_TIMESTAMP)\n",
    "    VALUES (%s, %s, %s, %s, %s, %s);\n",
    "    \"\"\"\n",
    "    cursor.execute(insert_query, retweet_values)\n"
   ]
  },
  {
   "cell_type": "code",
   "execution_count": 68,
   "metadata": {},
   "outputs": [],
   "source": [
    "# Temporarily disable foreign key checks\n",
    "cursor.execute(\"SET FOREIGN_KEY_CHECKS=0;\")\n",
    "\n",
    "with open(\"corona-out-3\", \"r\") as file:\n",
    "    for line_number, line in enumerate(file, 1):\n",
    "        try:\n",
    "            if not line.strip():\n",
    "                continue\n",
    "            data = json.loads(line)\n",
    "            if 'retweeted_status' in data:\n",
    "                insert_retweet(data, cursor)\n",
    "            else:\n",
    "                insert_tweet(data, cursor)\n",
    "        except json.JSONDecodeError:\n",
    "            print(f\"Error processing line {line_number}: Invalid JSON\")\n",
    "        except Exception as e:\n",
    "            print(f\"Error processing line {line_number}: {e}\")\n",
    "\n",
    "# Re-enable foreign key checks\n",
    "cursor.execute(\"SET FOREIGN_KEY_CHECKS=1;\")\n"
   ]
  },
  {
   "cell_type": "code",
   "execution_count": 69,
   "metadata": {},
   "outputs": [],
   "source": [
    "connection.commit()"
   ]
  },
  {
   "cell_type": "code",
   "execution_count": 63,
   "metadata": {},
   "outputs": [],
   "source": [
    "connection.close()"
   ]
  },
  {
   "cell_type": "code",
   "execution_count": 64,
   "metadata": {},
   "outputs": [
    {
     "name": "stdout",
     "output_type": "stream",
     "text": [
      "Connected to MySQL Server version  8.0.36\n"
     ]
    }
   ],
   "source": [
    "try:\n",
    "    connection = mysql.connector.connect(\n",
    "        host='127.0.0.1',\n",
    "        user='root',\n",
    "        password='password'\n",
    "    )\n",
    "    if connection.is_connected():\n",
    "        db_Info = connection.get_server_info()\n",
    "        print(\"Connected to MySQL Server version \", db_Info)\n",
    "        cursor = connection.cursor()\n",
    "        cursor.execute(\"CREATE DATABASE IF NOT EXISTS Twitterbase\")\n",
    "except Error as e:\n",
    "    print(\"Error while connecting to MySQL\", e)\n"
   ]
  },
  {
   "cell_type": "code",
   "execution_count": 65,
   "metadata": {},
   "outputs": [],
   "source": [
    "cursor.execute(\"USE Twitterbase\")"
   ]
  },
  {
   "cell_type": "code",
   "execution_count": 70,
   "metadata": {},
   "outputs": [
    {
     "name": "stdout",
     "output_type": "stream",
     "text": [
      "First 5 entries from the Tweets table:\n",
      "(1254022770679320576, 'É isto, ou vou morrer sem ar ou com o corona https://t.co/O0Y7B3Koj4', '', 804046791348015107, datetime.datetime(2020, 4, 25, 12, 21, 41), 0, 0, 'http://pbs.twimg.com/media/EWcvDlOXkAAznwM.jpg', 'pt', None, 0)\n",
      "(1254022770746372096, 'Schöne Runde mit dem Rennrad ✌️\\n#sport #corona https://t.co/Uglj9YJPI1', 'sport,corona', 2242948745, datetime.datetime(2020, 4, 25, 12, 21, 41), 0, 0, 'http://pbs.twimg.com/media/EWcvD0KWoAAIMuu.jpg', 'de', 'Deutschland', 0)\n",
      "(1254022772575043586, 'Was sollen 150 Euro Computerzuschuss bringen? Wer wartet die Computer in den 427 NRW Kommunen (Schulträger) wer die… https://t.co/wRAGYwMovO', '', 2929344220, datetime.datetime(2020, 4, 25, 12, 21, 42), 0, 0, None, 'de', None, 0)\n",
      "(1254022773598572544, '@VinceMcMahon @TripleH We hereby honor to announce that we have developed a brand new treatment method using UV ray… https://t.co/1vCEIyRCl5', '', 1091660129894838272, datetime.datetime(2020, 4, 25, 12, 21, 42), 0, 0, None, 'en', None, 0)\n",
      "(1254022776094105602, 'im making 17 a hr doing nothing 😭😭😭😭 i love this corona pay', '', 375777294, datetime.datetime(2020, 4, 25, 12, 21, 43), 0, 0, None, 'en', None, 0)\n",
      "First 5 entries from the Tweets table:\n",
      "(1254022772558368768, 1253949413191344128, 'RT @BJP4India: India’s war with Corona is ongoing.\\n\\nPlay your part and make sure no one around you starves.\\n\\nYour contribution to defeat hu…', '', 908326492718764034, datetime.datetime(2020, 4, 25, 12, 21, 42))\n",
      "(1254022772877131777, 1252576316135739392, 'RT @schrodingerk42: @ozkan_yalim @DurmusYillmaz \\nAçık kapalı görüşler yasak olduğu için sadece telefon görüşlerinde kendisinden haber alabi…', '', 1206650133976408064, datetime.datetime(2020, 4, 25, 12, 21, 42))\n",
      "(1254022773149589510, 1253992905703862272, 'RT @MonstaXEurope: VIDEO | 25.04.20\\n\\n&gt; Monsta X appears on Yonhap News TV - Idol comeback through Corona... Turning on the Music industry.…', '', 1248123252, datetime.datetime(2020, 4, 25, 12, 21, 42))\n",
      "(1254022773858545665, 1254010851142569984, 'RT @gustinicchi: Morti COL Corona non PER il Corona.\\n\\nCONTE PER OTTENERE APPOGGIO VDL AL GOLPE DI AGOSTO 2019 HA CONSEGNATO (MANI E PIEDI)…', '', 50993809, datetime.datetime(2020, 4, 25, 12, 21, 42))\n",
      "(1254022774521081856, 1253697983343816706, 'RT @PawanKalyan: Sri ByReddy Rajasekhar Reddy garu,a leader,who is truly dedicated to the betterment of Rayalaseema region (now joined in B…', '', 792325679354417152, datetime.datetime(2020, 4, 25, 12, 21, 42))\n"
     ]
    }
   ],
   "source": [
    "cursor.execute(\"SELECT * FROM tweet LIMIT 5;\")\n",
    "print(\"First 5 entries from the Tweets table:\")\n",
    "for row in cursor.fetchall():\n",
    "    print(row)\n",
    "cursor.execute(\"SELECT * FROM retweet LIMIT 5;\")\n",
    "print(\"First 5 entries from the Tweets table:\")\n",
    "for row in cursor.fetchall():\n",
    "    print(row)"
   ]
  },
  {
   "cell_type": "code",
   "execution_count": null,
   "metadata": {},
   "outputs": [],
   "source": []
  }
 ],
 "metadata": {
  "kernelspec": {
   "display_name": "Python 3 (ipykernel)",
   "language": "python",
   "name": "python3"
  },
  "language_info": {
   "codemirror_mode": {
    "name": "ipython",
    "version": 3
   },
   "file_extension": ".py",
   "mimetype": "text/x-python",
   "name": "python",
   "nbconvert_exporter": "python",
   "pygments_lexer": "ipython3",
   "version": "3.11.5"
  },
  "toc": {
   "base_numbering": 1,
   "nav_menu": {},
   "number_sections": true,
   "sideBar": true,
   "skip_h1_title": false,
   "title_cell": "Table of Contents",
   "title_sidebar": "Contents",
   "toc_cell": false,
   "toc_position": {},
   "toc_section_display": true,
   "toc_window_display": false
  }
 },
 "nbformat": 4,
 "nbformat_minor": 2
}
