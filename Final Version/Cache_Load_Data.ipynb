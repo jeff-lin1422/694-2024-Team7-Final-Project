{
 "cells": [
  {
   "cell_type": "code",
   "execution_count": 16,
   "metadata": {},
   "outputs": [],
   "source": [
    "import re\n",
    "import datetime\n",
    "import json\n",
    "import time"
   ]
  },
  {
   "cell_type": "code",
   "execution_count": 17,
   "metadata": {},
   "outputs": [],
   "source": [
    "import import_ipynb\n",
    "from MySQL_Load_Data import *\n",
    "from MongoDB_Load_Data import *"
   ]
  },
  {
   "cell_type": "markdown",
   "metadata": {},
   "source": [
    "<a id=\"cell1\"></a>\n",
    "# All functions to be run from below at start of the program"
   ]
  },
  {
   "cell_type": "markdown",
   "metadata": {},
   "source": [
    "### ----------------------------------------------------------------------------------------------------------------------------------\n",
    "### Load User_cache"
   ]
  },
  {
   "cell_type": "code",
   "execution_count": 18,
   "metadata": {},
   "outputs": [],
   "source": [
    "def insert_user_cache(user_cache,query_key,result):\n",
    "    pinned = 'Y'\n",
    "    current_timestamp = datetime.datetime.now().strftime(\"%Y-%m-%d:%H:%M:%S.%f\")    \n",
    "    temp= {\n",
    "        \"pinned\":pinned,\n",
    "        \"lastused\" : current_timestamp,\n",
    "        \"userids\" : result\n",
    "    }\n",
    "    user_cache[query_key]=temp\n",
    "    \n",
    "    return user_cache"
   ]
  },
  {
   "cell_type": "markdown",
   "metadata": {},
   "source": [
    "### Load Tweet_cache"
   ]
  },
  {
   "cell_type": "code",
   "execution_count": 19,
   "metadata": {},
   "outputs": [],
   "source": [
    "def insert_tweet_cache(tweet_cache,query_key,result):\n",
    "    pinned = 'Y'\n",
    "    current_timestamp = datetime.datetime.now().strftime(\"%Y-%m-%d:%H:%M:%S.%f\")    \n",
    "    temp= {\n",
    "        \"pinned\":pinned,\n",
    "        \"lastused\" : current_timestamp,\n",
    "        \"tweets\" : result\n",
    "    }\n",
    "    tweet_cache[query_key]=temp\n",
    "    \n",
    "    return tweet_cache"
   ]
  },
  {
   "cell_type": "markdown",
   "metadata": {},
   "source": [
    "### Load Hashtag_cache"
   ]
  },
  {
   "cell_type": "code",
   "execution_count": 20,
   "metadata": {},
   "outputs": [],
   "source": [
    "def insert_hashtag_cache(hashtag_cache,query_key,result):\n",
    "    pinned = 'Y'\n",
    "    current_timestamp = datetime.datetime.now().strftime(\"%Y-%m-%d:%H:%M:%S.%f\")    \n",
    "    temp= {\n",
    "        \"pinned\":pinned,\n",
    "        \"lastused\" : current_timestamp,\n",
    "        \"hashtag\" : result\n",
    "    }\n",
    "    hashtag_cache[query_key]=temp\n",
    "    \n",
    "    return hashtag_cache"
   ]
  },
  {
   "cell_type": "markdown",
   "metadata": {},
   "source": [
    "## -------------------------------------------------------------------------------------------------------------------------------\n",
    "### Query User Cache"
   ]
  },
  {
   "cell_type": "code",
   "execution_count": 21,
   "metadata": {},
   "outputs": [],
   "source": [
    "def query_user_cache(user_cache,query_key,query_count):\n",
    "    \n",
    "    regex_pattern = r'^(.*?)\\s*LIMIT\\s*\\d+\\s*$'    \n",
    "    match = re.search(regex_pattern, query_key, re.IGNORECASE)    \n",
    "    if match:\n",
    "        extracted_match = match.group(1).strip()\n",
    "    \n",
    "    match_found = ''\n",
    "    for key in user_cache.keys():\n",
    "        if extracted_match in key:\n",
    "            match_found = 'Y'\n",
    "            key_query_count = key[key.find(\"LIMIT\")+5:]\n",
    "            break\n",
    "\n",
    "    if match_found != 'Y':\n",
    "        return None\n",
    "            \n",
    "    if int(key_query_count) < int(query_count):\n",
    "        return key\n",
    "    elif int(key_query_count) >= int(query_count):\n",
    "        current_timestamp = datetime.datetime.now().strftime(\"%Y-%m-%d:%H:%M:%S.%f\")  \n",
    "        user_cache[key][\"lastused\"] = current_timestamp\n",
    "        return user_cache[key][\"userids\"]\n",
    "        \n",
    "    return True"
   ]
  },
  {
   "cell_type": "markdown",
   "metadata": {},
   "source": [
    "### Query Tweet Cache"
   ]
  },
  {
   "cell_type": "code",
   "execution_count": 22,
   "metadata": {},
   "outputs": [],
   "source": [
    "def query_tweet_cache(tweet_cache,query_key,query_count):\n",
    "\n",
    "    regex_pattern = r'^(.*?)\\s*LIMIT\\s*\\d+\\s*$'    \n",
    "    match = re.search(regex_pattern, query_key, re.IGNORECASE)\n",
    "    if match:\n",
    "        extracted_match = match.group(1).strip()\n",
    "    \n",
    "    match_found = ''\n",
    "    for key in tweet_cache.keys():\n",
    "        if extracted_match in key:\n",
    "            match_found = 'Y'\n",
    "            key_query_count = key[key.find(\"LIMIT\")+5:]\n",
    "            break\n",
    "\n",
    "    if match_found != 'Y':\n",
    "        return None\n",
    "            \n",
    "    if int(key_query_count) < int(query_count):\n",
    "        return key\n",
    "    elif int(key_query_count) >= int(query_count):\n",
    "        current_timestamp = datetime.datetime.now().strftime(\"%Y-%m-%d:%H:%M:%S.%f\")  \n",
    "        tweet_cache[key][\"lastused\"] = current_timestamp\n",
    "        return tweet_cache[key][\"tweets\"]\n",
    "    \n",
    "    return True"
   ]
  },
  {
   "cell_type": "markdown",
   "metadata": {},
   "source": [
    "### Query Hashtag Cache"
   ]
  },
  {
   "cell_type": "code",
   "execution_count": 23,
   "metadata": {},
   "outputs": [],
   "source": [
    "def query_hashtag_cache(hashtag_cache,query_key,query_count):\n",
    "    \n",
    "    regex_pattern = r'^(.*?)\\s*LIMIT\\s*\\d+\\s*$'    \n",
    "    match = re.search(regex_pattern, query_key, re.IGNORECASE)\n",
    "    if match:\n",
    "        extracted_match = match.group(1).strip()\n",
    "    \n",
    "    match_found = ''\n",
    "    for key in hashtag_cache.keys():\n",
    "        if extracted_match in key:\n",
    "            match_found = 'Y'\n",
    "            key_query_count = key[key.find(\"LIMIT\")+5:]\n",
    "            break\n",
    "            \n",
    "    if match_found != 'Y':\n",
    "        return None\n",
    "            \n",
    "    if int(key_query_count) < int(query_count):\n",
    "        return key\n",
    "    elif int(key_query_count) >= int(query_count):\n",
    "        current_timestamp = datetime.datetime.now().strftime(\"%Y-%m-%d:%H:%M:%S.%f\")  \n",
    "        hashtag_cache[key][\"lastused\"] = current_timestamp\n",
    "        return hashtag_cache[key][\"hashtag\"]\n",
    "        \n",
    "    return True"
   ]
  },
  {
   "cell_type": "markdown",
   "metadata": {},
   "source": [
    "### ----------------------------------------------------------------------------------------------------------------------------------\n",
    "## Save Cache to file"
   ]
  },
  {
   "cell_type": "code",
   "execution_count": 24,
   "metadata": {},
   "outputs": [],
   "source": [
    "def save_cache(dictionary, filename):\n",
    "    with open(filename, 'w') as file:\n",
    "        json.dump(dictionary,file)"
   ]
  },
  {
   "cell_type": "markdown",
   "metadata": {},
   "source": [
    "## ----------------------------------------------------------------------------------------------------------------------------------\n",
    "## Reload Cache to dictionary"
   ]
  },
  {
   "cell_type": "code",
   "execution_count": 25,
   "metadata": {},
   "outputs": [],
   "source": [
    "def load_cache(filename):\n",
    "    try:\n",
    "        loaded_dict = {}\n",
    "        with open(filename, 'r') as file:\n",
    "            loaded_dict = json.load(file)\n",
    "#             print(loaded_dict)\n",
    "            return loaded_dict            \n",
    "    except FileNotFoundError:\n",
    "        return loaded_dict  "
   ]
  },
  {
   "cell_type": "markdown",
   "metadata": {},
   "source": [
    "## -------------------------------------------------------------------------------------------------------------------------------\n",
    "## Purge Cache entry"
   ]
  },
  {
   "cell_type": "code",
   "execution_count": 26,
   "metadata": {},
   "outputs": [],
   "source": [
    "def purge_cache(dictionary):\n",
    "    for key in dictionary:\n",
    "#         print(key)\n",
    "        if dictionary[key]['pinned'] == ' ':\n",
    "            dictionary.pop(key)\n",
    "            return dictionary\n",
    "    return dictionary\n",
    "        \n",
    "######################################################################################################################\n",
    "\n",
    "def find_oldest_lastused(dictionary):\n",
    "    oldest_key = None\n",
    "    oldest_lastused = None\n",
    "    for key, value in dictionary.items():\n",
    "        if value[\"lastused\"] is not None:\n",
    "            if oldest_lastused is None or value[\"lastused\"] < oldest_lastused:\n",
    "                oldest_key = key\n",
    "                oldest_lastused = value[\"lastused\"]\n",
    "    return oldest_key\n",
    "        "
   ]
  },
  {
   "cell_type": "markdown",
   "metadata": {},
   "source": [
    "### Search for User "
   ]
  },
  {
   "cell_type": "code",
   "execution_count": 27,
   "metadata": {},
   "outputs": [],
   "source": [
    "def user_search(user_cache,string,Limit):\n",
    "    \n",
    "    at_begin_time = time.time()\n",
    "    \n",
    "    query_key = string + ' LIMIT ' + str(Limit)\n",
    "    print(query_key)\n",
    "\n",
    "    result = query_user_cache(user_cache,query_key,Limit)\n",
    "    # print(result)\n",
    "    if result == None:\n",
    "        print(\"Going to tables\")\n",
    "        result = query_user(string,Limit,\"users\") \n",
    "        \n",
    "        if len(user_cache) > 14 : \n",
    "            purge_key = find_oldest_lastused(user_cache)\n",
    "            print(\"purge_key : \", purge_key)\n",
    "            user_cache[purge_key]['pinned'] = ' '\n",
    "            user_cache = purge_cache(user_cache)         \n",
    "        \n",
    "        if len(result) > 0:\n",
    "            user_cache = insert_user_cache(user_cache,query_key,result)\n",
    "        else:\n",
    "#             print(\"No results found\")\n",
    "            result = \"No results found\"\n",
    "    elif isinstance(result, list):\n",
    "        print(\"found in Cache\")\n",
    "    else:\n",
    "        print(\"purge\")\n",
    "        user_cache[result]['pinned'] = ' '\n",
    "        user_cache = purge_cache(user_cache)\n",
    "        result = query_user(string,Limita,\"users\") \n",
    "        if len(result) > 0:\n",
    "            user_cache = insert_user_cache(user_cache,query_key,result)\n",
    "        else:\n",
    "#             print(\"No results found\")\n",
    "            result = \"No results found in purge\"\n",
    "    \n",
    "    at_end_time = time.time_ns()\n",
    "    elapsed_time = at_end_time - at_begin_time\n",
    "    print(\"Time taken:\", elapsed_time, \"seconds\")\n",
    "    \n",
    "    return result\n",
    "        "
   ]
  },
  {
   "cell_type": "markdown",
   "metadata": {},
   "source": [
    "### Search for Text"
   ]
  },
  {
   "cell_type": "code",
   "execution_count": 32,
   "metadata": {},
   "outputs": [],
   "source": [
    "def string_search(tweet_cache,start_time, end_time, string, Limit):\n",
    "    \n",
    "    at_begin_time = time.time_ns()\n",
    "    \n",
    "    query = start_time + end_time + string + 'LIMIT' + str(Limit)\n",
    "    print(query)\n",
    "\n",
    "    result = query_tweet_cache(tweet_cache,query,Limit)\n",
    "    # print(result)\n",
    "    if result == None:\n",
    "        print(\"Going to tables\")\n",
    "        \n",
    "        result = find_tweet_in_timerange(start_time, end_time, Limit,string) \n",
    "        print(result)\n",
    "        if len(tweet_cache) > 14 : \n",
    "            purge_key = find_oldest_lastused(tweet_cache)\n",
    "            tweet_cache[purge_key]['pinned'] = ' '\n",
    "            tweet_cache = purge_cache(tweet_cache)        \n",
    "        \n",
    "        if len(result) > 0:\n",
    "            tweet_cache = insert_tweet_cache(tweet_cache, query, result)\n",
    "        else:\n",
    "#             print(\"No results found\")\n",
    "            result = \"No results found\"\n",
    "    elif isinstance(result, list):\n",
    "        print(\"found in Cache\")\n",
    "    else:\n",
    "        print(\"purge\")\n",
    "        tweet_cache[result]['pinned'] = ' '\n",
    "        tweet_cache = purge_cache(tweet_cache)\n",
    "        result = find_tweet_in_timerange(start_time, end_time, Limit,string) \n",
    "        if len(result) > 0:\n",
    "            tweet_cache = insert_tweet_cache(tweet_cache, query, result)\n",
    "        else:\n",
    "#             print(\"No results found\")\n",
    "            result = \"No results found in purge\"\n",
    "    \n",
    "    at_end_time = time.time()\n",
    "    elapsed_time = at_end_time - at_begin_time\n",
    "    print(\"Time taken:\", elapsed_time, \"seconds\")\n",
    "    \n",
    "    return result"
   ]
  },
  {
   "cell_type": "markdown",
   "metadata": {},
   "source": [
    "### Search for Hashtag"
   ]
  },
  {
   "cell_type": "code",
   "execution_count": 29,
   "metadata": {},
   "outputs": [],
   "source": [
    "def hashtag_search(hashtag_cache,start_time, end_time, string, Limit):\n",
    "    \n",
    "    at_begin_time = time.time_ns()\n",
    "    \n",
    "    query = start_time + end_time + string + 'LIMIT' + str(Limit)\n",
    "    print(query)\n",
    "\n",
    "    result = query_hashtag_cache(hashtag_cache,query,Limit)\n",
    "#     print(result)\n",
    "    if result == None:\n",
    "        print(\"Going to tables\")\n",
    "        result = find_tweet_with_hashtag_in_time(start_time, end_time, Limit,string) \n",
    "#         print(result)\n",
    "        if len(hashtag_cache) > 14 : \n",
    "            purge_key = find_oldest_lastused(hashtag_cache)\n",
    "            hashtag_cache[purge_key]['pinned'] = ' '\n",
    "            hashtag_cache = purge_cache(hashtag_cache)         \n",
    "        \n",
    "        if len(result) > 0:\n",
    "            hashtag_cache = insert_hashtag_cache(hashtag_cache, query, result)\n",
    "        else:\n",
    "            result = \"No results found\"\n",
    "    elif isinstance(result, list):\n",
    "        print(\"found in Cache\")\n",
    "    else:\n",
    "        print(\"purge\")\n",
    "        hashtag_cache[result]['pinned'] = ' '\n",
    "        hashtag_cache = purge_cache(hashtag_cache)\n",
    "        result = find_tweet_with_hashtag_in_time(start_time, end_time, Limit,string) \n",
    "        if len(result) > 0:\n",
    "            hashtag_cache = insert_hashtag_cache(hashtag_cache, query, result)\n",
    "        else:\n",
    "#             print(\"No results found\")\n",
    "            result = \"No results found in purge\"\n",
    "     \n",
    "    at_end_time = time.time_ns()\n",
    "    elapsed_time = at_end_time - at_begin_time\n",
    "    print(\"Time taken:\", elapsed_time, \"seconds\")    \n",
    "        \n",
    "    return result"
   ]
  },
  {
   "cell_type": "code",
   "execution_count": 30,
   "metadata": {},
   "outputs": [
    {
     "name": "stderr",
     "output_type": "stream",
     "text": [
      "[NbConvertApp] Converting notebook Cache_Load_Data.ipynb to script\n",
      "[NbConvertApp] Writing 10527 bytes to Cache_Load_Data.py\n"
     ]
    }
   ],
   "source": [
    "!jupyter nbconvert --to script Cache_Load_Data.ipynb"
   ]
  },
  {
   "cell_type": "code",
   "execution_count": 31,
   "metadata": {},
   "outputs": [],
   "source": [
    "#!jupyter nbconvert --to script --output Cache_Final_project_DB_User.py"
   ]
  },
  {
   "cell_type": "code",
   "execution_count": null,
   "metadata": {},
   "outputs": [],
   "source": []
  }
 ],
 "metadata": {
  "kernelspec": {
   "display_name": "Python 3 (ipykernel)",
   "language": "python",
   "name": "python3"
  },
  "language_info": {
   "codemirror_mode": {
    "name": "ipython",
    "version": 3
   },
   "file_extension": ".py",
   "mimetype": "text/x-python",
   "name": "python",
   "nbconvert_exporter": "python",
   "pygments_lexer": "ipython3",
   "version": "3.8.16"
  },
  "toc": {
   "base_numbering": 1,
   "nav_menu": {},
   "number_sections": true,
   "sideBar": true,
   "skip_h1_title": false,
   "title_cell": "Table of Contents",
   "title_sidebar": "Contents",
   "toc_cell": false,
   "toc_position": {},
   "toc_section_display": true,
   "toc_window_display": false
  }
 },
 "nbformat": 4,
 "nbformat_minor": 2
}
