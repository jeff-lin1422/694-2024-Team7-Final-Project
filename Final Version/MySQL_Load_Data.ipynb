{
 "cells": [
  {
   "cell_type": "code",
   "execution_count": 30,
   "metadata": {},
   "outputs": [],
   "source": [
    "import json"
   ]
  },
  {
   "cell_type": "code",
   "execution_count": 31,
   "metadata": {},
   "outputs": [],
   "source": [
    "import mysql.connector\n",
    "from mysql.connector import Error"
   ]
  },
  {
   "cell_type": "code",
   "execution_count": 32,
   "metadata": {},
   "outputs": [
    {
     "name": "stdout",
     "output_type": "stream",
     "text": [
      "Connected to MySQL Server version  8.0.36\n"
     ]
    }
   ],
   "source": [
    "try:\n",
    "    connection = mysql.connector.connect(\n",
    "        host='127.0.0.1',\n",
    "        user='root',\n",
    "        password='password'\n",
    "    )\n",
    "    if connection.is_connected():\n",
    "        db_Info = connection.get_server_info()\n",
    "        print(\"Connected to MySQL Server version \", db_Info)\n",
    "        cursor = connection.cursor()\n",
    "        cursor.execute(\"CREATE DATABASE IF NOT EXISTS Twitterbase\")\n",
    "except Error as e:\n",
    "    print(\"Error while connecting to MySQL\", e)\n"
   ]
  },
  {
   "cell_type": "code",
   "execution_count": 33,
   "metadata": {},
   "outputs": [],
   "source": [
    "cursor.execute(\"USE Twitterbase\")"
   ]
  },
  {
   "cell_type": "code",
   "execution_count": 34,
   "metadata": {},
   "outputs": [],
   "source": [
    "import datetime"
   ]
  },
  {
   "cell_type": "code",
   "execution_count": 35,
   "metadata": {},
   "outputs": [],
   "source": [
    "# Creating the USER_INFO table\n",
    "cursor.execute(\"\"\"\n",
    "CREATE TABLE IF NOT EXISTS USER_INFO (\n",
    "    ID BIGINT PRIMARY KEY,\n",
    "    NAME VARCHAR(255),\n",
    "    SCREEN_NAME VARCHAR(255),\n",
    "    VERIFIED BOOLEAN,\n",
    "    FOLLOWERS_COUNT INT,\n",
    "    PROFILE_IMAGE_URL TEXT\n",
    ");\n",
    "\"\"\")"
   ]
  },
  {
   "cell_type": "code",
   "execution_count": 36,
   "metadata": {},
   "outputs": [],
   "source": [
    "connection.commit()"
   ]
  },
  {
   "cell_type": "code",
   "execution_count": 37,
   "metadata": {},
   "outputs": [],
   "source": [
    "def insert_user(data, cursor):\n",
    "    user_data = data['user']\n",
    "    user_values = (\n",
    "        user_data['id'],\n",
    "        user_data['name'],\n",
    "        user_data['screen_name'],\n",
    "        user_data['verified'],\n",
    "        user_data['followers_count'],\n",
    "        user_data['profile_image_url']\n",
    "    )\n",
    "    insert_query = \"\"\"\n",
    "    INSERT INTO USER_INFO (ID, NAME, SCREEN_NAME, VERIFIED, FOLLOWERS_COUNT, PROFILE_IMAGE_URL)\n",
    "    VALUES (%s, %s, %s, %s, %s, %s)\n",
    "    ON DUPLICATE KEY UPDATE\n",
    "    NAME = VALUES(NAME),\n",
    "    SCREEN_NAME = VALUES(SCREEN_NAME),\n",
    "    VERIFIED = VALUES(VERIFIED),\n",
    "    FOLLOWERS_COUNT = VALUES(FOLLOWERS_COUNT),\n",
    "    PROFILE_IMAGE_URL = VALUES(PROFILE_IMAGE_URL)\n",
    "    \"\"\"\n",
    "    cursor.execute(insert_query, user_values)"
   ]
  },
  {
   "cell_type": "code",
   "execution_count": 38,
   "metadata": {},
   "outputs": [],
   "source": [
    "with open(\"corona-out-3\", \"r\") as file:\n",
    "    for line_number, line in enumerate(file, 1):\n",
    "        try:\n",
    "            if not line.strip():\n",
    "                continue\n",
    "            data = json.loads(line)\n",
    "            insert_user(data, cursor)\n",
    "        except json.JSONDecodeError:\n",
    "            print(f\"Error processing line {line_number}: Invalid JSON\")\n",
    "        except Exception as e:\n",
    "            print(f\"Error processing line {line_number}: {e}\")"
   ]
  },
  {
   "cell_type": "code",
   "execution_count": 39,
   "metadata": {},
   "outputs": [],
   "source": [
    "connection.commit()"
   ]
  },
  {
   "cell_type": "code",
   "execution_count": 40,
   "metadata": {},
   "outputs": [
    {
     "name": "stdout",
     "output_type": "stream",
     "text": [
      "First 5 entries from the Users table:\n",
      "(767, 'Xeni Jardin 😷🏠', 'xeni', 1, 152608, 'http://pbs.twimg.com/profile_images/1247496153878282240/g358Pjaq_normal.jpg')\n",
      "(5039, 'Jrome', 'jrome', 0, 642, 'http://pbs.twimg.com/profile_images/1035729023110971392/tdGGy2z5_normal.jpg')\n",
      "(5242, 'Ahmed Al Omran', 'ahmed', 1, 149844, 'http://pbs.twimg.com/profile_images/1175469297675714562/QUWgZ3Gk_normal.jpg')\n",
      "(11364, 'Kirti', 'Kits', 0, 922, 'http://pbs.twimg.com/profile_images/1236533691511214080/-RiWXOon_normal.jpg')\n",
      "(12094, 'Nicholai Reinseth', 'Nicholai', 0, 277, 'http://pbs.twimg.com/profile_images/792446254236233728/86sl8Ero_normal.jpg')\n"
     ]
    }
   ],
   "source": [
    "cursor.execute(\"SELECT * FROM User_info LIMIT 5;\")\n",
    "print(\"First 5 entries from the Users table:\")\n",
    "for row in cursor.fetchall():\n",
    "    print(row)"
   ]
  },
  {
   "cell_type": "code",
   "execution_count": 41,
   "metadata": {},
   "outputs": [],
   "source": [
    "def construct_query(searchterm, lim, metric):\n",
    "    base_query = \"\"\n",
    "    where_clause = \"\"\n",
    "    if lim:\n",
    "        if lim <=20:\n",
    "            limit_clause = f\" LIMIT {lim}\"\n",
    "    else:\n",
    "        lim = 20\n",
    "        limit_clause = f\" LIMIT {lim}\"\n",
    "    \n",
    "    # Determine the base query based on the metric\n",
    "    if metric == \"users\":\n",
    "        base_query = \"SELECT * FROM USERS\"\n",
    "        # Always sort users by followers count in descending order\n",
    "        order_clause = \" ORDER BY FOLLOWERS_COUNT DESC\"\n",
    "        # If a search term is provided, add a WHERE clause to filter by NAME\n",
    "        if searchterm:\n",
    "            where_clause = f\" WHERE NAME LIKE '%{searchterm}%'\"\n",
    "    \n",
    "    # Combine the parts of the query\n",
    "    query = f\"{base_query}{where_clause}{order_clause}{limit_clause};\"\n",
    "    \n",
    "    return query\n"
   ]
  },
  {
   "cell_type": "code",
   "execution_count": 42,
   "metadata": {},
   "outputs": [
    {
     "name": "stdout",
     "output_type": "stream",
     "text": [
      "SELECT * FROM USERS WHERE NAME LIKE '%John%' ORDER BY FOLLOWERS_COUNT DESC LIMIT 10;\n",
      "SELECT * FROM USERS ORDER BY FOLLOWERS_COUNT DESC LIMIT 5;\n",
      "SELECT * FROM USERS WHERE NAME LIKE '%Doe%' ORDER BY FOLLOWERS_COUNT DESC LIMIT 20;\n"
     ]
    }
   ],
   "source": [
    "# Example 1: Search for users by name, limit to 10 results\n",
    "query1 = construct_query(\"John\", 10, \"users\")\n",
    "print(query1)\n",
    "\n",
    "# Example 2: Get top 5 users without search term\n",
    "query2 = construct_query(\"\", 5, \"users\")\n",
    "print(query2)\n",
    "\n",
    "# Example 3: Search for users by name without limit\n",
    "query3 = construct_query(\"Doe\", None, \"users\")\n",
    "print(query3)\n"
   ]
  },
  {
   "cell_type": "code",
   "execution_count": 43,
   "metadata": {},
   "outputs": [
    {
     "name": "stdout",
     "output_type": "stream",
     "text": [
      "query1\n",
      "(259395895, 'John Harwood', 1, 363458, 'http://pbs.twimg.com/profile_images/868178337859911680/GJ8zcy-z_normal.jpg')\n",
      "(558686364, 'John Heche', 0, 213085, 'http://pbs.twimg.com/profile_images/597395337133871104/HMhVGGX3_normal.jpg')\n",
      "(457320286, 'John A. A. Logan', 0, 77906, 'http://pbs.twimg.com/profile_images/1745878945/thomasford800by533_edited-1_normal.jpg')\n",
      "(711627609344516096, 'John Trumpfan', 0, 43994, 'http://pbs.twimg.com/profile_images/853683089280827392/E_dLFBgK_normal.jpg')\n",
      "(1171793868, 'john jackson', 0, 42866, 'http://pbs.twimg.com/profile_images/838235597080674304/37K1h01M_normal.jpg')\n",
      "(847845464489824256, 'Rodney Johnston MAGA text TRUMP to 88022', 0, 39394, 'http://pbs.twimg.com/profile_images/1171090294944817152/TxLWkZNp_normal.jpg')\n",
      "(4910826454, 'Elnathan John', 1, 38918, 'http://pbs.twimg.com/profile_images/1249825749244182537/-5T7M4Pe_normal.jpg')\n",
      "(239432753, 'John Weant', 0, 20596, 'http://pbs.twimg.com/profile_images/1221586610774474752/Xh2j5NWl_normal.jpg')\n",
      "(1384509985, 'John Redcorn𓃭', 0, 19988, 'http://pbs.twimg.com/profile_images/1246048540620517382/Nv1nNAhw_normal.jpg')\n",
      "(270441877, 'John Norton', 0, 14717, 'http://pbs.twimg.com/profile_images/1508151438/f8150726-3e45-4116-adf0-5d9fcb9bcdda_normal.png')\n"
     ]
    }
   ],
   "source": [
    "cursor.execute(query1)\n",
    "print(\"query1\")\n",
    "for row in cursor.fetchall():\n",
    "    print(row)"
   ]
  },
  {
   "cell_type": "code",
   "execution_count": 44,
   "metadata": {},
   "outputs": [
    {
     "name": "stdout",
     "output_type": "stream",
     "text": [
      "query2\n",
      "(69183155, 'detikcom', 1, 15928061, 'http://pbs.twimg.com/profile_images/1253960978305183746/Yz0vPk8w_normal.jpg')\n",
      "(62513246, 'J.K. Rowling', 1, 14608046, 'http://pbs.twimg.com/profile_images/1240994661323411456/9CeA8lPP_normal.jpg')\n",
      "(42606652, 'AajTak', 1, 9706667, 'http://pbs.twimg.com/profile_images/1179039747273940992/ZGQ_ibsP_normal.jpg')\n",
      "(39240673, 'ABP News', 1, 9563509, 'http://pbs.twimg.com/profile_images/1093087956141715456/uR5Dz8p2_normal.jpg')\n",
      "(240649814, 'TIMES NOW', 1, 9499855, 'http://pbs.twimg.com/profile_images/548508720888442881/T4tYT9xR_normal.jpeg')\n"
     ]
    }
   ],
   "source": [
    "cursor.execute(query2)\n",
    "print(\"query2\")\n",
    "for row in cursor.fetchall():\n",
    "    print(row)"
   ]
  },
  {
   "cell_type": "code",
   "execution_count": 45,
   "metadata": {},
   "outputs": [
    {
     "name": "stdout",
     "output_type": "stream",
     "text": [
      "query3\n",
      "(16188864, 'M. Balter teaches/does journalism, remotely.', 0, 6014, 'http://pbs.twimg.com/profile_images/769528655760547841/AOg5UXnh_normal.jpg')\n",
      "(271883332, 'Karl Doemens', 0, 4147, 'http://pbs.twimg.com/profile_images/1214309595553943553/FIoo5VRm_normal.jpg')\n",
      "(1060837449147076609, '🇬🇧🏴\\U000e0067\\U000e0062\\U000e0065\\U000e006e\\U000e0067\\U000e007fRoger Beddoe🇬🇧🏴\\U000e0067\\U000e0062\\U000e0065\\U000e006e\\U000e0067\\U000e007f', 0, 4003, 'http://pbs.twimg.com/profile_images/1247455175658397696/yRqZNttX_normal.jpg')\n",
      "(915678870786916353, 'E. Valencia #YoMeQuedoEnCasa🙂🤖🤖', 0, 2568, 'http://pbs.twimg.com/profile_images/1237233271613706240/wF_ta_ye_normal.jpg')\n",
      "(898651479887818753, 'Jean-Pierre DOEUFF', 0, 2423, 'http://pbs.twimg.com/profile_images/1152220398773243904/XuT5n4Sw_normal.jpg')\n",
      "(747872377, 'Jessica Doering', 0, 2385, 'http://pbs.twimg.com/profile_images/1143632065860186112/N2ZgmrSh_normal.jpg')\n",
      "(496552854, 'IkDoeWatIkDoe', 0, 1235, 'http://pbs.twimg.com/profile_images/1021498037636657152/ujzjli9z_normal.jpg')\n",
      "(3089309722, 'JotaB (#YoMeQuedoEnCasa) ♿💪🍊', 0, 1175, 'http://pbs.twimg.com/profile_images/1252639997003472896/DAUdJv8Z_normal.jpg')\n",
      "(1112723705195458561, 'doel ngarip', 0, 922, 'http://pbs.twimg.com/profile_images/1229270428218249216/NAOQCy5v_normal.jpg')\n",
      "(2854872009, 'Mej. Goedbedoeld', 0, 788, 'http://pbs.twimg.com/profile_images/1189944725530431488/KJv3cvJ6_normal.jpg')\n",
      "(23229279, \"BMAC DOESN'T INJECT CLEANING PRODUCTS\", 0, 694, 'http://pbs.twimg.com/profile_images/1249872012404822016/X5LsxK2o_normal.jpg')\n",
      "(266123018, 'pproni. #SánchezVeteYa #YoMeQuedoEnCasa', 0, 693, 'http://pbs.twimg.com/profile_images/1253241418912608257/me2BSILn_normal.jpg')\n",
      "(1283810071, 'Abdoel', 0, 689, 'http://pbs.twimg.com/profile_images/1253898904740847616/5QiJAV18_normal.jpg')\n",
      "(30467500, 'Oene Doevendans', 0, 607, 'http://pbs.twimg.com/profile_images/1060184170658496512/JHqqom0y_normal.jpg')\n",
      "(891429010504163328, 'Doel', 0, 438, 'http://pbs.twimg.com/profile_images/1253597296354197504/U0NccQDw_normal.jpg')\n",
      "(971336911703822336, 'DOEL XJODO', 0, 426, 'http://pbs.twimg.com/profile_images/1244457244839645186/2vDuGbVQ_normal.jpg')\n",
      "(4146694158, 'PM DOES NOT CARE', 0, 331, 'http://pbs.twimg.com/profile_images/1246404979071397889/n-VSnrjk_normal.jpg')\n",
      "(790851847263322112, 'A. Doering', 0, 292, 'http://pbs.twimg.com/profile_images/1014071843135873024/arQHpRx1_normal.jpg')\n",
      "(1243402637451481090, 'Nene Doe Oposika', 0, 281, 'http://pbs.twimg.com/profile_images/1243723203723304960/Iq7YSmW5_normal.jpg')\n",
      "(4843214884, 'Doerner', 0, 206, 'http://pbs.twimg.com/profile_images/1251113600787394561/Dx4CuSRl_normal.jpg')\n"
     ]
    }
   ],
   "source": [
    "cursor.execute(query3)\n",
    "print(\"query3\")\n",
    "for row in cursor.fetchall():\n",
    "    print(row)"
   ]
  },
  {
   "cell_type": "markdown",
   "metadata": {},
   "source": [
    "# Everything below is previous version stuff:"
   ]
  },
  {
   "cell_type": "code",
   "execution_count": 46,
   "metadata": {},
   "outputs": [],
   "source": [
    "#dropped old tables\n",
    "create_users_table_query = \"\"\"\n",
    "    CREATE TABLE IF NOT EXISTS USERS(\n",
    "        ID BIGINT PRIMARY KEY,\n",
    "        NAME VARCHAR(255),\n",
    "        VERIFIED BOOLEAN,\n",
    "        FOLLOWERS_COUNT INT,\n",
    "        PROFILE_IMAGE_URL TEXT\n",
    "    );\n",
    "    \"\"\"\n",
    "    \n",
    "# Execute the query to create the Users table\n",
    "cursor.execute(create_users_table_query)"
   ]
  },
  {
   "cell_type": "code",
   "execution_count": 47,
   "metadata": {},
   "outputs": [],
   "source": [
    "connection.commit()"
   ]
  },
  {
   "cell_type": "code",
   "execution_count": 48,
   "metadata": {},
   "outputs": [],
   "source": [
    "def insert_or_update_user(user_data, cursor):\n",
    "    user_values = (\n",
    "        user_data['id'],\n",
    "        user_data['name'],\n",
    "        user_data['verified'],\n",
    "        user_data['followers_count'],\n",
    "        user_data['profile_image_url']\n",
    "    )\n",
    "    insert_query = \"\"\"\n",
    "    INSERT INTO USERS (ID, NAME, VERIFIED, FOLLOWERS_COUNT, PROFILE_IMAGE_URL)\n",
    "    VALUES (%s, %s, %s, %s, %s)\n",
    "    ON DUPLICATE KEY UPDATE\n",
    "    NAME = VALUES(NAME),\n",
    "    VERIFIED = VALUES(VERIFIED),\n",
    "    FOLLOWERS_COUNT = VALUES(FOLLOWERS_COUNT),\n",
    "    PROFILE_IMAGE_URL = VALUES(PROFILE_IMAGE_URL);\n",
    "    \"\"\"\n",
    "    cursor.execute(insert_query, user_values)\n"
   ]
  },
  {
   "cell_type": "code",
   "execution_count": 49,
   "metadata": {},
   "outputs": [],
   "source": [
    "with open(\"corona-out-3\", \"r\") as file:\n",
    "    for line_number, line in enumerate(file, 1):\n",
    "        try:\n",
    "            if not line.strip():\n",
    "                continue\n",
    "            data = json.loads(line)\n",
    "            # Process user data here for both tweets and retweets\n",
    "            if 'user' in data:\n",
    "                insert_or_update_user(data['user'], cursor)\n",
    "\n",
    "        except json.JSONDecodeError:\n",
    "            print(f\"Error processing line {line_number}: Invalid JSON\")\n",
    "        except Exception as e:\n",
    "            print(f\"Error processing line {line_number}: {e}\")"
   ]
  },
  {
   "cell_type": "code",
   "execution_count": 50,
   "metadata": {},
   "outputs": [],
   "source": [
    "connection.commit()"
   ]
  },
  {
   "cell_type": "code",
   "execution_count": 51,
   "metadata": {},
   "outputs": [
    {
     "name": "stdout",
     "output_type": "stream",
     "text": [
      "First 5 entries from the Users table:\n",
      "(767, 'Xeni Jardin 😷🏠', 1, 152608, 'http://pbs.twimg.com/profile_images/1247496153878282240/g358Pjaq_normal.jpg')\n",
      "(5039, 'Jrome', 0, 642, 'http://pbs.twimg.com/profile_images/1035729023110971392/tdGGy2z5_normal.jpg')\n",
      "(5242, 'Ahmed Al Omran', 1, 149844, 'http://pbs.twimg.com/profile_images/1175469297675714562/QUWgZ3Gk_normal.jpg')\n",
      "(11364, 'Kirti', 0, 922, 'http://pbs.twimg.com/profile_images/1236533691511214080/-RiWXOon_normal.jpg')\n",
      "(12094, 'Nicholai Reinseth', 0, 277, 'http://pbs.twimg.com/profile_images/792446254236233728/86sl8Ero_normal.jpg')\n"
     ]
    }
   ],
   "source": [
    "cursor.execute(\"SELECT * FROM Users LIMIT 5;\")\n",
    "print(\"First 5 entries from the Users table:\")\n",
    "for row in cursor.fetchall():\n",
    "    print(row)"
   ]
  },
  {
   "cell_type": "code",
   "execution_count": 52,
   "metadata": {},
   "outputs": [],
   "source": [
    "connection.close()"
   ]
  },
  {
   "cell_type": "code",
   "execution_count": null,
   "metadata": {},
   "outputs": [],
   "source": []
  }
 ],
 "metadata": {
  "kernelspec": {
   "display_name": "Python 3 (ipykernel)",
   "language": "python",
   "name": "python3"
  },
  "language_info": {
   "codemirror_mode": {
    "name": "ipython",
    "version": 3
   },
   "file_extension": ".py",
   "mimetype": "text/x-python",
   "name": "python",
   "nbconvert_exporter": "python",
   "pygments_lexer": "ipython3",
   "version": "3.12.3"
  },
  "toc": {
   "base_numbering": 1,
   "nav_menu": {},
   "number_sections": true,
   "sideBar": true,
   "skip_h1_title": false,
   "title_cell": "Table of Contents",
   "title_sidebar": "Contents",
   "toc_cell": false,
   "toc_position": {},
   "toc_section_display": true,
   "toc_window_display": false
  }
 },
 "nbformat": 4,
 "nbformat_minor": 4
}
