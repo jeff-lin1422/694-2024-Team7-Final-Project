{
 "cells": [
  {
   "cell_type": "code",
   "execution_count": 1,
   "metadata": {},
   "outputs": [],
   "source": [
    "import json"
   ]
  },
  {
   "cell_type": "code",
   "execution_count": 2,
   "metadata": {},
   "outputs": [],
   "source": [
    "import mysql.connector\n",
    "from mysql.connector import Error"
   ]
  },
  {
   "cell_type": "code",
   "execution_count": null,
   "metadata": {},
   "outputs": [],
   "source": []
  },
  {
   "cell_type": "code",
   "execution_count": 17,
   "metadata": {},
   "outputs": [
    {
     "name": "stdout",
     "output_type": "stream",
     "text": [
      "Connected to MySQL Server version  8.0.36\n"
     ]
    }
   ],
   "source": [
    "try:\n",
    "    connection = mysql.connector.connect(\n",
    "        host=\"localhost\",\n",
    "        user=\"root\",\n",
    "        password=\"Dyq20150801@\"\n",
    "    )\n",
    "    if connection.is_connected():\n",
    "        db_Info = connection.get_server_info()\n",
    "        print(\"Connected to MySQL Server version \", db_Info)\n",
    "        cursor = connection.cursor()\n",
    "        cursor.execute(\"CREATE DATABASE IF NOT EXISTS Twitterbase\")\n",
    "except Error as e:\n",
    "    print(\"Error while connecting to MySQL\", e)\n"
   ]
  },
  {
   "cell_type": "code",
   "execution_count": 18,
   "metadata": {},
   "outputs": [],
   "source": [
    "cursor.execute(\"USE Twitterbase\")"
   ]
  },
  {
   "cell_type": "code",
   "execution_count": 19,
   "metadata": {},
   "outputs": [],
   "source": [
    "import datetime"
   ]
  },
  {
   "cell_type": "code",
   "execution_count": 20,
   "metadata": {},
   "outputs": [],
   "source": [
    "# #dropped old tables\n",
    "# create_users_table_query = \"\"\"\n",
    "#     DROP TABLE USERS;\n",
    "#     \"\"\"\n",
    "    \n",
    "# # Execute the query to create the Users table\n",
    "# cursor.execute(create_users_table_query)"
   ]
  },
  {
   "cell_type": "code",
   "execution_count": 21,
   "metadata": {},
   "outputs": [],
   "source": [
    "# Creating the USER table\n",
    "cursor.execute(\"\"\"\n",
    "CREATE TABLE IF NOT EXISTS USERS (\n",
    "    ID BIGINT PRIMARY KEY,\n",
    "    NAME VARCHAR(255),\n",
    "    SCREEN_NAME VARCHAR(255),\n",
    "    VERIFIED BOOLEAN,\n",
    "    FOLLOWERS_COUNT INT,\n",
    "    PROFILE_IMAGE_URL TEXT\n",
    ");\n",
    "\"\"\")"
   ]
  },
  {
   "cell_type": "code",
   "execution_count": 22,
   "metadata": {},
   "outputs": [],
   "source": [
    "connection.commit()"
   ]
  },
  {
   "cell_type": "code",
   "execution_count": 23,
   "metadata": {},
   "outputs": [],
   "source": [
    "# def insert_or_update_user(user_data, cursor):\n",
    "#     user_data = data['user']\n",
    "#     user_values = (\n",
    "#         user_data['id'],\n",
    "#         user_data['name'],\n",
    "#         user_data['screen_name'],\n",
    "#         user_data['verified'],\n",
    "#         user_data['followers_count'],\n",
    "#         user_data['profile_image_url']\n",
    "#     )\n",
    "#     insert_query = \"\"\"\n",
    "#     INSERT INTO USERS (ID, NAME, SCREEN_NAME, VERIFIED, FOLLOWERS_COUNT, PROFILE_IMAGE_URL)\n",
    "#     VALUES (%s, %s, %s, %s, %s, %s)\n",
    "#     ON DUPLICATE KEY UPDATE\n",
    "#     NAME = VALUES(NAME),\n",
    "#     SCREEN_NAME = VALUES(SCREEN_NAME),\n",
    "#     VERIFIED = VALUES(VERIFIED),\n",
    "#     FOLLOWERS_COUNT = VALUES(FOLLOWERS_COUNT),\n",
    "#     PROFILE_IMAGE_URL = VALUES(PROFILE_IMAGE_URL)\n",
    "#     \"\"\"\n",
    "#     cursor.execute(insert_query, user_values)"
   ]
  },
  {
   "cell_type": "code",
   "execution_count": 24,
   "metadata": {},
   "outputs": [],
   "source": [
    "# with open(\"corona-out-3\", \"r\") as file:\n",
    "#     for line_number, line in enumerate(file, 1):\n",
    "#         try:\n",
    "#             if not line.strip():\n",
    "#                 continue\n",
    "#             data = json.loads(line)\n",
    "#             # Process user data here for both tweets and retweets\n",
    "#             if 'user' in data:\n",
    "#                 insert_or_update_user(data['user'], cursor)\n",
    "\n",
    "#         except json.JSONDecodeError:\n",
    "#             print(f\"Error processing line {line_number}: Invalid JSON\")\n",
    "#         except Exception as e:\n",
    "#             print(f\"Error processing line {line_number}: {e}\")"
   ]
  },
  {
   "cell_type": "code",
   "execution_count": 25,
   "metadata": {},
   "outputs": [],
   "source": [
    "connection.commit()"
   ]
  },
  {
   "cell_type": "markdown",
   "metadata": {},
   "source": [
    "### Markdown"
   ]
  },
  {
   "cell_type": "code",
   "execution_count": 26,
   "metadata": {},
   "outputs": [],
   "source": [
    "def query_user(searchterm, lim, metric):\n",
    "    base_query = \"\"\n",
    "    where_clause = \"\"\n",
    "    if lim:\n",
    "        if lim <=20:\n",
    "            limit_clause = f\" LIMIT {lim}\"\n",
    "    else:\n",
    "        lim = 20\n",
    "        limit_clause = f\" LIMIT {lim}\"\n",
    "    \n",
    "    # Determine the base query based on the metric\n",
    "    if metric == \"users\":\n",
    "        base_query = \"SELECT * FROM USERS\"\n",
    "        # Always sort users by followers count in descending order\n",
    "        order_clause = \" ORDER BY FOLLOWERS_COUNT DESC\"\n",
    "        # If a search term is provided, add a WHERE clause to filter by NAME\n",
    "        if searchterm:\n",
    "            where_clause = f\" WHERE NAME LIKE '%{searchterm}%'\"\n",
    "    \n",
    "    # Combine the parts of the query\n",
    "    query = f\"{base_query}{where_clause}{order_clause}{limit_clause};\"\n",
    "    \n",
    "    result = []\n",
    "    print(\"query : \", query)\n",
    "    cursor.execute(query)\n",
    "    for row in cursor.fetchall():\n",
    "#         print(row[1])\n",
    "        result.append(row)         \n",
    "#         print(result)\n",
    "        \n",
    "    return result  \n",
    "\n",
    "## modified"
   ]
  },
  {
   "cell_type": "code",
   "execution_count": null,
   "metadata": {},
   "outputs": [],
   "source": []
  },
  {
   "cell_type": "code",
   "execution_count": 27,
   "metadata": {},
   "outputs": [],
   "source": [
    "# connection.close()"
   ]
  },
  {
   "cell_type": "code",
   "execution_count": 30,
   "metadata": {},
   "outputs": [
    {
     "name": "stderr",
     "output_type": "stream",
     "text": [
      "[NbConvertApp] Converting notebook MySQL_Load_Data.ipynb to script\n",
      "[NbConvertApp] Writing 3855 bytes to MySQL_Load_Data.py\n"
     ]
    }
   ],
   "source": [
    "!jupyter nbconvert --to script MySQL_Load_Data.ipynb"
   ]
  },
  {
   "cell_type": "code",
   "execution_count": 29,
   "metadata": {},
   "outputs": [],
   "source": [
    "# !jupyter nbconvert --to script --output MySQL_Load_Data.py"
   ]
  },
  {
   "cell_type": "code",
   "execution_count": null,
   "metadata": {},
   "outputs": [],
   "source": []
  },
  {
   "cell_type": "code",
   "execution_count": null,
   "metadata": {},
   "outputs": [],
   "source": []
  },
  {
   "cell_type": "code",
   "execution_count": null,
   "metadata": {},
   "outputs": [],
   "source": []
  }
 ],
 "metadata": {
  "kernelspec": {
   "display_name": "Python 3 (ipykernel)",
   "language": "python",
   "name": "python3"
  },
  "language_info": {
   "codemirror_mode": {
    "name": "ipython",
    "version": 3
   },
   "file_extension": ".py",
   "mimetype": "text/x-python",
   "name": "python",
   "nbconvert_exporter": "python",
   "pygments_lexer": "ipython3",
   "version": "3.8.16"
  },
  "toc": {
   "base_numbering": 1,
   "nav_menu": {},
   "number_sections": true,
   "sideBar": true,
   "skip_h1_title": false,
   "title_cell": "Table of Contents",
   "title_sidebar": "Contents",
   "toc_cell": false,
   "toc_position": {},
   "toc_section_display": true,
   "toc_window_display": false
  }
 },
 "nbformat": 4,
 "nbformat_minor": 2
}
